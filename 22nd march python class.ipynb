{
 "cells": [
  {
   "cell_type": "code",
   "execution_count": 1,
   "id": "53bfb86a",
   "metadata": {},
   "outputs": [
    {
     "name": "stdout",
     "output_type": "stream",
     "text": [
      "My first condition\n"
     ]
    }
   ],
   "source": [
    "a=10\n",
    "if a ==10:\n",
    "    print(\"My first condition\")\n",
    "    \n",
    "    "
   ]
  },
  {
   "cell_type": "code",
   "execution_count": 2,
   "id": "1d8a7b62",
   "metadata": {},
   "outputs": [
    {
     "name": "stdout",
     "output_type": "stream",
     "text": [
      "a is greater than 5\n"
     ]
    }
   ],
   "source": [
    "a=10\n",
    "if a>5:\n",
    "    print(\"a is greater than 5\")"
   ]
  },
  {
   "cell_type": "code",
   "execution_count": 3,
   "id": "254d93f7",
   "metadata": {},
   "outputs": [],
   "source": [
    "a=10\n",
    "if a>5:\n",
    "    pass\n",
    "else:\n",
    "    pass"
   ]
  },
  {
   "cell_type": "markdown",
   "id": "5abc61a0",
   "metadata": {},
   "source": [
    "pass is kind a body if u are not write code in loop just write pass to aoid error"
   ]
  },
  {
   "cell_type": "code",
   "execution_count": 4,
   "id": "7487fbff",
   "metadata": {},
   "outputs": [],
   "source": [
    "a=10\n",
    "if a<5:\n",
    "    print(\"a is lesser than 5\")\n",
    "    "
   ]
  },
  {
   "cell_type": "code",
   "execution_count": 5,
   "id": "5ebf06b4",
   "metadata": {},
   "outputs": [
    {
     "name": "stdout",
     "output_type": "stream",
     "text": [
      "prit this\n"
     ]
    }
   ],
   "source": [
    "a=10\n",
    "if a!=10:\n",
    "    print(\"my condition is false\")\n",
    "else:\n",
    "    print(\"prit this\")"
   ]
  },
  {
   "cell_type": "code",
   "execution_count": 6,
   "id": "1f36819c",
   "metadata": {},
   "outputs": [
    {
     "name": "stdout",
     "output_type": "stream",
     "text": [
      "a is greater than 10\n"
     ]
    }
   ],
   "source": [
    "a=11\n",
    "\n",
    "if a==10:\n",
    "    print(\"a equal to 10\")\n",
    "elif a<10:\n",
    "    print(\"a is lesser than 10\")\n",
    "else:\n",
    "    print(\"a is greater than 10\")\n",
    "    "
   ]
  },
  {
   "cell_type": "markdown",
   "id": "17d30af0",
   "metadata": {},
   "source": [
    "in else dont give any condition\n"
   ]
  },
  {
   "cell_type": "code",
   "execution_count": 7,
   "id": "0c48f11a",
   "metadata": {},
   "outputs": [
    {
     "data": {
      "text/plain": [
       "True"
      ]
     },
     "execution_count": 7,
     "metadata": {},
     "output_type": "execute_result"
    }
   ],
   "source": [
    "a==11"
   ]
  },
  {
   "cell_type": "code",
   "execution_count": 8,
   "id": "3ff1d5ef",
   "metadata": {},
   "outputs": [
    {
     "data": {
      "text/plain": [
       "True"
      ]
     },
     "execution_count": 8,
     "metadata": {},
     "output_type": "execute_result"
    }
   ],
   "source": [
    "a>10"
   ]
  },
  {
   "cell_type": "code",
   "execution_count": 9,
   "id": "70f40076",
   "metadata": {},
   "outputs": [
    {
     "data": {
      "text/plain": [
       "False"
      ]
     },
     "execution_count": 9,
     "metadata": {},
     "output_type": "execute_result"
    }
   ],
   "source": [
    "a<10"
   ]
  },
  {
   "cell_type": "code",
   "execution_count": 10,
   "id": "01a8558c",
   "metadata": {},
   "outputs": [],
   "source": [
    "l=[1,2,3,4,5,6]"
   ]
  },
  {
   "cell_type": "code",
   "execution_count": 11,
   "id": "3db0dabf",
   "metadata": {},
   "outputs": [
    {
     "data": {
      "text/plain": [
       "True"
      ]
     },
     "execution_count": 11,
     "metadata": {},
     "output_type": "execute_result"
    }
   ],
   "source": [
    "2 in l"
   ]
  },
  {
   "cell_type": "code",
   "execution_count": 12,
   "id": "1683da15",
   "metadata": {},
   "outputs": [
    {
     "name": "stdout",
     "output_type": "stream",
     "text": [
      "try task\n"
     ]
    }
   ],
   "source": [
    "if 2 in l:\n",
    "    print(\"try task\")\n",
    "else:\n",
    "    print(\"do not try\")"
   ]
  },
  {
   "cell_type": "code",
   "execution_count": 13,
   "id": "8c6569b4",
   "metadata": {},
   "outputs": [
    {
     "name": "stdout",
     "output_type": "stream",
     "text": [
      "try task\n"
     ]
    }
   ],
   "source": [
    "if 2 in l:\n",
    "    print(\"try task\")\n",
    "else:\n",
    "    print(\"do not try\")"
   ]
  },
  {
   "cell_type": "code",
   "execution_count": 14,
   "id": "b386c9e7",
   "metadata": {},
   "outputs": [
    {
     "name": "stdout",
     "output_type": "stream",
     "text": [
      "sub\n"
     ]
    }
   ],
   "source": [
    "if 10 in l:\n",
    "    print(\"add\")\n",
    "elif 2 in l:\n",
    "    print(\"sub\")\n",
    "elif 3 in l:\n",
    "    print(\"mul\")\n"
   ]
  },
  {
   "cell_type": "code",
   "execution_count": 15,
   "id": "b134e824",
   "metadata": {},
   "outputs": [
    {
     "name": "stdout",
     "output_type": "stream",
     "text": [
      "sub\n",
      "haha\n"
     ]
    }
   ],
   "source": [
    "if 10 in l:\n",
    "    print(\"add\")\n",
    "elif 2 in l:\n",
    "    print(\"sub\")\n",
    "elif 3 in l:\n",
    "    print(\"mul\")\n",
    "if 3 in l:\n",
    "    print(\"haha\")"
   ]
  },
  {
   "cell_type": "code",
   "execution_count": 16,
   "id": "e81ec697",
   "metadata": {},
   "outputs": [
    {
     "name": "stdout",
     "output_type": "stream",
     "text": [
      "4\n"
     ]
    }
   ],
   "source": [
    "b=input()"
   ]
  },
  {
   "cell_type": "code",
   "execution_count": 17,
   "id": "9f79e8d5",
   "metadata": {},
   "outputs": [
    {
     "data": {
      "text/plain": [
       "'4'"
      ]
     },
     "execution_count": 17,
     "metadata": {},
     "output_type": "execute_result"
    }
   ],
   "source": [
    "b"
   ]
  },
  {
   "cell_type": "code",
   "execution_count": 18,
   "id": "90307877",
   "metadata": {},
   "outputs": [
    {
     "data": {
      "text/plain": [
       "str"
      ]
     },
     "execution_count": 18,
     "metadata": {},
     "output_type": "execute_result"
    }
   ],
   "source": [
    "type(b)"
   ]
  },
  {
   "cell_type": "code",
   "execution_count": 19,
   "id": "c107ffbe",
   "metadata": {},
   "outputs": [
    {
     "name": "stdout",
     "output_type": "stream",
     "text": [
      "6\n"
     ]
    }
   ],
   "source": [
    "c=int(input())"
   ]
  },
  {
   "cell_type": "code",
   "execution_count": 20,
   "id": "af9a7383",
   "metadata": {},
   "outputs": [
    {
     "data": {
      "text/plain": [
       "int"
      ]
     },
     "execution_count": 20,
     "metadata": {},
     "output_type": "execute_result"
    }
   ],
   "source": [
    "type(c)"
   ]
  },
  {
   "cell_type": "code",
   "execution_count": 21,
   "id": "4298eb10",
   "metadata": {},
   "outputs": [
    {
     "name": "stdout",
     "output_type": "stream",
     "text": [
      "5\n"
     ]
    }
   ],
   "source": [
    "c=input()"
   ]
  },
  {
   "cell_type": "code",
   "execution_count": 22,
   "id": "1c7c261e",
   "metadata": {},
   "outputs": [
    {
     "data": {
      "text/plain": [
       "str"
      ]
     },
     "execution_count": 22,
     "metadata": {},
     "output_type": "execute_result"
    }
   ],
   "source": [
    "type(c)"
   ]
  },
  {
   "cell_type": "code",
   "execution_count": 23,
   "id": "70d18f86",
   "metadata": {},
   "outputs": [
    {
     "name": "stdout",
     "output_type": "stream",
     "text": [
      "150\n",
      ">100\n"
     ]
    }
   ],
   "source": [
    "c=int(input())\n",
    "if c >100:\n",
    "    print(\">100\")\n",
    "elif c==100:\n",
    "    print(\"=100\")\n",
    "else:\n",
    "    print(\"<100\")"
   ]
  },
  {
   "cell_type": "code",
   "execution_count": 24,
   "id": "4ed5243a",
   "metadata": {},
   "outputs": [
    {
     "name": "stdout",
     "output_type": "stream",
     "text": [
      "100\n",
      "=100\n"
     ]
    }
   ],
   "source": [
    "c=int(input())\n",
    "if c >100:\n",
    "    print(\">100\")\n",
    "elif c==100:\n",
    "    print(\"=100\")\n",
    "else:\n",
    "    print(\"<100\")"
   ]
  },
  {
   "cell_type": "code",
   "execution_count": 35,
   "id": "f569bfdb",
   "metadata": {},
   "outputs": [
    {
     "name": "stdout",
     "output_type": "stream",
     "text": [
      "350\n",
      ">100\n",
      "great\n",
      "vgreat\n"
     ]
    }
   ],
   "source": [
    "c=int(input())\n",
    "if c >100:\n",
    "    print(\">100\")\n",
    "    if c>200:\n",
    "        print(\"great\")\n",
    "        if c>300:\n",
    "            print(\"vgreat\")\n",
    "else:\n",
    "    print(\"ok\")"
   ]
  },
  {
   "cell_type": "code",
   "execution_count": 39,
   "id": "650b8770",
   "metadata": {},
   "outputs": [
    {
     "name": "stdout",
     "output_type": "stream",
     "text": [
      "400\n",
      "no gre\n",
      "tofel\n"
     ]
    }
   ],
   "source": [
    "c=int(input())\n",
    "if c <600:\n",
    "    print(\"no gre\")\n",
    "    if c<500:\n",
    "        print(\"tofel\")\n",
    "        if c<400:\n",
    "            print(\"try somwthing\")\n",
    "else:\n",
    "    print(\"gre\")"
   ]
  },
  {
   "cell_type": "code",
   "execution_count": 43,
   "id": "82f1780a",
   "metadata": {},
   "outputs": [
    {
     "name": "stdout",
     "output_type": "stream",
     "text": [
      "enter float nm-1\n",
      "negative num\n"
     ]
    }
   ],
   "source": [
    "val = float(input(\"enter float nm\"))\n",
    "if val >=0 :\n",
    "    if val == 0:\n",
    "        print(\"value is 0\")\n",
    "    else:\n",
    "        print(\"positive\")\n",
    "else:\n",
    "    print(\"negative num\")\n",
    "    \n",
    "    "
   ]
  },
  {
   "cell_type": "code",
   "execution_count": 47,
   "id": "91e38555",
   "metadata": {},
   "outputs": [
    {
     "name": "stdout",
     "output_type": "stream",
     "text": [
      "try somethig\n"
     ]
    }
   ],
   "source": [
    "a = 21\n",
    "if a <=10 or a>20:\n",
    "    print(\"try somethig\")"
   ]
  },
  {
   "cell_type": "code",
   "execution_count": 48,
   "id": "4ef54e3a",
   "metadata": {},
   "outputs": [
    {
     "name": "stdout",
     "output_type": "stream",
     "text": [
      "this is ram\n"
     ]
    }
   ],
   "source": [
    "a=\"ram\"\n",
    "if a==\"ram\"and a==\"ram\":\n",
    "    print(\"this is ram\")"
   ]
  },
  {
   "cell_type": "code",
   "execution_count": 49,
   "id": "41a177bb",
   "metadata": {},
   "outputs": [],
   "source": [
    "a=\"ram\"\n",
    "if a==\"ram\"and a==\"Ram\":\n",
    "    print(\"this is ram\")"
   ]
  },
  {
   "cell_type": "code",
   "execution_count": 50,
   "id": "8db76cf7",
   "metadata": {},
   "outputs": [
    {
     "name": "stdout",
     "output_type": "stream",
     "text": [
      "this is ram\n"
     ]
    }
   ],
   "source": [
    "a=\"ram\"\n",
    "if a==\"ram\"or a==\"Ram\":\n",
    "    print(\"this is ram\")"
   ]
  },
  {
   "cell_type": "code",
   "execution_count": 51,
   "id": "70ea964d",
   "metadata": {},
   "outputs": [],
   "source": [
    "a=10\n",
    "b=11\n",
    "c=12\n",
    "d=13\n",
    "if a==9 and b==11 and c==12 and d==12:\n",
    "    print(\"true\")"
   ]
  },
  {
   "cell_type": "code",
   "execution_count": 53,
   "id": "c48479cf",
   "metadata": {},
   "outputs": [
    {
     "name": "stdout",
     "output_type": "stream",
     "text": [
      "true\n"
     ]
    }
   ],
   "source": [
    "a=9\n",
    "b=11\n",
    "c=12\n",
    "d=13\n",
    "if a==9 and b==11 and c==12 and d==13:\n",
    "    print(\"true\")"
   ]
  },
  {
   "cell_type": "code",
   "execution_count": 54,
   "id": "ba347c26",
   "metadata": {},
   "outputs": [
    {
     "name": "stdout",
     "output_type": "stream",
     "text": [
      "true\n"
     ]
    }
   ],
   "source": [
    "a=10\n",
    "b=11\n",
    "c=12\n",
    "d=13\n",
    "if a==9 or b==11 and c==12 or d==12:\n",
    "    print(\"true\")"
   ]
  },
  {
   "cell_type": "code",
   "execution_count": 71,
   "id": "54b0becf",
   "metadata": {},
   "outputs": [
    {
     "data": {
      "text/plain": [
       "{'key1': 'value', 'rk': 'value1', 'r': 'value2'}"
      ]
     },
     "execution_count": 71,
     "metadata": {},
     "output_type": "execute_result"
    }
   ],
   "source": [
    "d = {\"key1\":\"value\" , \"rk\":\"value1\" , \"r\":\"value2\"}\n",
    "d"
   ]
  },
  {
   "cell_type": "code",
   "execution_count": 74,
   "id": "fe5dcba5",
   "metadata": {},
   "outputs": [
    {
     "data": {
      "text/plain": [
       "'value2'"
      ]
     },
     "execution_count": 74,
     "metadata": {},
     "output_type": "execute_result"
    }
   ],
   "source": [
    "d[\"r\"]"
   ]
  },
  {
   "cell_type": "code",
   "execution_count": 80,
   "id": "4c41dd85",
   "metadata": {},
   "outputs": [
    {
     "name": "stdout",
     "output_type": "stream",
     "text": [
      "values are not verified\n"
     ]
    }
   ],
   "source": [
    "if d[\"key1\"]==\"value\" and d[\"rk\"]==\"value1\" and d[\"r\"]==\"value2\":\n",
    "    print(\"all values are validated\")\n",
    "    print(d.values())\n",
    "else:\n",
    "    print(\"values are not verified\")"
   ]
  },
  {
   "cell_type": "code",
   "execution_count": 79,
   "id": "fd1758d8",
   "metadata": {},
   "outputs": [
    {
     "name": "stdout",
     "output_type": "stream",
     "text": [
      "dict_values(['value', 'value1', 'value2'])\n"
     ]
    }
   ],
   "source": [
    "print(d.values())"
   ]
  },
  {
   "cell_type": "code",
   "execution_count": 81,
   "id": "8ed896af",
   "metadata": {},
   "outputs": [
    {
     "name": "stdout",
     "output_type": "stream",
     "text": [
      "values are not verified\n"
     ]
    }
   ],
   "source": [
    "if d[\"key1\"]==\"value1\" and d[\"rk\"]==\"value1\" and d[\"r\"]==\"value2\":\n",
    "    print(\"all values are validated\")\n",
    "    print(d.values())\n",
    "else:\n",
    "    print(\"values are not verified\")"
   ]
  },
  {
   "cell_type": "code",
   "execution_count": 82,
   "id": "2e36ad62",
   "metadata": {},
   "outputs": [
    {
     "data": {
      "text/plain": [
       "{'key1': 'value', 'rk': 'value1', 'r': 'value2'}"
      ]
     },
     "execution_count": 82,
     "metadata": {},
     "output_type": "execute_result"
    }
   ],
   "source": [
    "d"
   ]
  },
  {
   "cell_type": "code",
   "execution_count": 90,
   "id": "5d7dc29d",
   "metadata": {},
   "outputs": [
    {
     "data": {
      "text/plain": [
       "[1, 2, 3, 4, 'ram', 'krishna', 1.2]"
      ]
     },
     "execution_count": 90,
     "metadata": {},
     "output_type": "execute_result"
    }
   ],
   "source": [
    "l=[1,2,3,4,\"ram\",\"krishna\",1.2]\n",
    "l"
   ]
  },
  {
   "cell_type": "code",
   "execution_count": 91,
   "id": "0f188288",
   "metadata": {},
   "outputs": [
    {
     "name": "stdout",
     "output_type": "stream",
     "text": [
      "1\n",
      "2\n",
      "3\n",
      "4\n",
      "ram\n",
      "krishna\n",
      "1.2\n"
     ]
    }
   ],
   "source": [
    "for i in l:\n",
    "    print(i)"
   ]
  },
  {
   "cell_type": "code",
   "execution_count": 92,
   "id": "416696b4",
   "metadata": {},
   "outputs": [
    {
     "name": "stdout",
     "output_type": "stream",
     "text": [
      "2\n",
      "3\n",
      "4\n",
      "5\n"
     ]
    },
    {
     "ename": "TypeError",
     "evalue": "can only concatenate str (not \"int\") to str",
     "output_type": "error",
     "traceback": [
      "\u001b[1;31m---------------------------------------------------------------------------\u001b[0m",
      "\u001b[1;31mTypeError\u001b[0m                                 Traceback (most recent call last)",
      "Input \u001b[1;32mIn [92]\u001b[0m, in \u001b[0;36m<cell line: 1>\u001b[1;34m()\u001b[0m\n\u001b[0;32m      1\u001b[0m \u001b[38;5;28;01mfor\u001b[39;00m i \u001b[38;5;129;01min\u001b[39;00m l:\n\u001b[1;32m----> 2\u001b[0m     \u001b[38;5;28mprint\u001b[39m(\u001b[43mi\u001b[49m\u001b[38;5;241;43m+\u001b[39;49m\u001b[38;5;241;43m1\u001b[39;49m)\n",
      "\u001b[1;31mTypeError\u001b[0m: can only concatenate str (not \"int\") to str"
     ]
    }
   ],
   "source": [
    "for i in l:\n",
    "    print(i+1)"
   ]
  },
  {
   "cell_type": "code",
   "execution_count": 94,
   "id": "ae6d9e9c",
   "metadata": {},
   "outputs": [
    {
     "name": "stdout",
     "output_type": "stream",
     "text": [
      "2\n",
      "3\n",
      "4\n",
      "5\n",
      "ram1\n",
      "krishna1\n",
      "2.2\n"
     ]
    }
   ],
   "source": [
    "for i in l:\n",
    "    if type(i)==int or type(i)==float:\n",
    "        print(i+1)\n",
    "    elif type(i)==str:\n",
    "        print(i+str(1))"
   ]
  },
  {
   "cell_type": "code",
   "execution_count": 95,
   "id": "c9395bf8",
   "metadata": {},
   "outputs": [],
   "source": [
    "l1=[]"
   ]
  },
  {
   "cell_type": "code",
   "execution_count": 96,
   "id": "44a0bac1",
   "metadata": {},
   "outputs": [],
   "source": [
    "for i in l:\n",
    "    if type(i)==int:\n",
    "        l1.append(i)"
   ]
  },
  {
   "cell_type": "code",
   "execution_count": 97,
   "id": "d44cb998",
   "metadata": {},
   "outputs": [
    {
     "data": {
      "text/plain": [
       "[1, 2, 3, 4]"
      ]
     },
     "execution_count": 97,
     "metadata": {},
     "output_type": "execute_result"
    }
   ],
   "source": [
    "l1"
   ]
  },
  {
   "cell_type": "code",
   "execution_count": null,
   "id": "e798891d",
   "metadata": {},
   "outputs": [],
   "source": []
  }
 ],
 "metadata": {
  "kernelspec": {
   "display_name": "Python 3 (ipykernel)",
   "language": "python",
   "name": "python3"
  },
  "language_info": {
   "codemirror_mode": {
    "name": "ipython",
    "version": 3
   },
   "file_extension": ".py",
   "mimetype": "text/x-python",
   "name": "python",
   "nbconvert_exporter": "python",
   "pygments_lexer": "ipython3",
   "version": "3.9.12"
  }
 },
 "nbformat": 4,
 "nbformat_minor": 5
}
