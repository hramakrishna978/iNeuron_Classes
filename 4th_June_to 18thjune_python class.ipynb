{
 "cells": [
  {
   "cell_type": "code",
   "execution_count": 1,
   "id": "20d80b1f",
   "metadata": {},
   "outputs": [],
   "source": [
    "s=\"Hi,everyone good morning to all.today we are going to discuss the pythonin ineuron\""
   ]
  },
  {
   "cell_type": "markdown",
   "id": "85663103",
   "metadata": {},
   "source": [
    "Q1 : try to extract data from index one to index 300 with a jump of 3"
   ]
  },
  {
   "cell_type": "code",
   "execution_count": 2,
   "id": "43c3fbe3",
   "metadata": {},
   "outputs": [
    {
     "data": {
      "text/plain": [
       "'Herngdoi  loyergntdcshphiiun'"
      ]
     },
     "execution_count": 2,
     "metadata": {},
     "output_type": "execute_result"
    }
   ],
   "source": [
    "s[0:300:3]"
   ]
  },
  {
   "cell_type": "markdown",
   "id": "4440054b",
   "metadata": {},
   "source": [
    "Q2 : try to reverse a strinbg withoout using reverse function\n",
    "Q3: try to split a string after converion of entire string in uppercase\n",
    "Q3: try to convert the whole string into lowercase\n",
    "    5. try to capitalize the whole string\n",
    "    6.write a difference isanum() and isalpha()\n",
    "    7.try to give ab example of expand tab\n",
    "    8.give an example o strip, lsstrip and restrip\n",
    "    9.Replace a string charaecter by another charecter by taking your own example ex:Ramakrishna\n",
    "    10.try to give a definition of string center function with and example\n",
    "    11.write your own definition of compiler and interpreter without copy paste fron internert\n",
    "    12.python is a interpreted of compiled language give a clear ans with your understanding\n",
    "    13.try to write a usecase of python with your understanding."
   ]
  },
  {
   "cell_type": "markdown",
   "id": "b6ee0d4c",
   "metadata": {},
   "source": [
    "Q2 : try to reverse a strinbg withoout using reverse function "
   ]
  },
  {
   "cell_type": "markdown",
   "id": "0064be95",
   "metadata": {},
   "source": [
    "s[::-1]"
   ]
  },
  {
   "cell_type": "markdown",
   "id": "5a33be0e",
   "metadata": {},
   "source": [
    "Q3: try to split a string after converion of entire string in uppercase"
   ]
  },
  {
   "cell_type": "code",
   "execution_count": 3,
   "id": "2e3192a4",
   "metadata": {},
   "outputs": [
    {
     "data": {
      "text/plain": [
       "['HI,EVERYONE',\n",
       " 'GOOD',\n",
       " 'MORNING',\n",
       " 'TO',\n",
       " 'ALL.TODAY',\n",
       " 'WE',\n",
       " 'ARE',\n",
       " 'GOING',\n",
       " 'TO',\n",
       " 'DISCUSS',\n",
       " 'THE',\n",
       " 'PYTHONIN',\n",
       " 'INEURON']"
      ]
     },
     "execution_count": 3,
     "metadata": {},
     "output_type": "execute_result"
    }
   ],
   "source": [
    "s1 = s.upper()\n",
    "s1.split()"
   ]
  },
  {
   "cell_type": "markdown",
   "id": "77d1c0b4",
   "metadata": {},
   "source": [
    "Q4: try to convert the whole string into lowercase"
   ]
  },
  {
   "cell_type": "code",
   "execution_count": 4,
   "id": "f1ca58d1",
   "metadata": {},
   "outputs": [
    {
     "data": {
      "text/plain": [
       "'hi,everyone good morning to all.today we are going to discuss the pythonin ineuron'"
      ]
     },
     "execution_count": 4,
     "metadata": {},
     "output_type": "execute_result"
    }
   ],
   "source": [
    "s2=s.lower()\n",
    "s2"
   ]
  },
  {
   "cell_type": "markdown",
   "id": "47fe9e26",
   "metadata": {},
   "source": [
    "5. try to capitalize the whole string 6.write a difference isanum() and isalpha() "
   ]
  },
  {
   "cell_type": "code",
   "execution_count": 5,
   "id": "1af64426",
   "metadata": {},
   "outputs": [
    {
     "data": {
      "text/plain": [
       "'Hi,everyone good morning to all.today we are going to discuss the pythonin ineuron'"
      ]
     },
     "execution_count": 5,
     "metadata": {},
     "output_type": "execute_result"
    }
   ],
   "source": [
    "s3=s.capitalize()\n",
    "s3"
   ]
  },
  {
   "cell_type": "markdown",
   "id": "e90c0b7a",
   "metadata": {},
   "source": [
    "6.write a difference isanum() and isalpha() "
   ]
  },
  {
   "cell_type": "code",
   "execution_count": 6,
   "id": "f7f9a0ff",
   "metadata": {},
   "outputs": [
    {
     "data": {
      "text/plain": [
       "True"
      ]
     },
     "execution_count": 6,
     "metadata": {},
     "output_type": "execute_result"
    }
   ],
   "source": [
    "a1 = \"Rama123\"\n",
    "a1.isalnum()"
   ]
  },
  {
   "cell_type": "code",
   "execution_count": 7,
   "id": "4ce69788",
   "metadata": {},
   "outputs": [
    {
     "data": {
      "text/plain": [
       "False"
      ]
     },
     "execution_count": 7,
     "metadata": {},
     "output_type": "execute_result"
    }
   ],
   "source": [
    "a2 = \"rama123\"\n",
    "a2.isalpha()\n"
   ]
  },
  {
   "cell_type": "markdown",
   "id": "9a81a887",
   "metadata": {},
   "source": [
    "7.try to give ab example of expand tab"
   ]
  },
  {
   "cell_type": "code",
   "execution_count": 8,
   "id": "f49e522a",
   "metadata": {},
   "outputs": [
    {
     "data": {
      "text/plain": [
       "'fvghbn  ghjnm   hb'"
      ]
     },
     "execution_count": 8,
     "metadata": {},
     "output_type": "execute_result"
    }
   ],
   "source": [
    "s=\"fvghbn\\tghjnm\\thb\"\n",
    "s.expandtabs()"
   ]
  },
  {
   "cell_type": "markdown",
   "id": "a429a0f8",
   "metadata": {},
   "source": [
    "8.give an example of strip, lsstrip and restrip"
   ]
  },
  {
   "cell_type": "markdown",
   "id": "d2d153ff",
   "metadata": {},
   "source": [
    "s=\"     ram    \"\n",
    "s.strip()"
   ]
  },
  {
   "cell_type": "code",
   "execution_count": 9,
   "id": "6b464d79",
   "metadata": {},
   "outputs": [
    {
     "data": {
      "text/plain": [
       "'fvghbn\\tghjnm\\thb'"
      ]
     },
     "execution_count": 9,
     "metadata": {},
     "output_type": "execute_result"
    }
   ],
   "source": [
    "s.lstrip()"
   ]
  },
  {
   "cell_type": "code",
   "execution_count": 10,
   "id": "9f83bd46",
   "metadata": {},
   "outputs": [
    {
     "data": {
      "text/plain": [
       "'fvghbn\\tghjnm\\thb'"
      ]
     },
     "execution_count": 10,
     "metadata": {},
     "output_type": "execute_result"
    }
   ],
   "source": [
    "s.rstrip()"
   ]
  },
  {
   "cell_type": "markdown",
   "id": "fe783c0f",
   "metadata": {},
   "source": [
    "9.Replace a string charaecter by another charecter by taking your own example ex:Ramakrishna "
   ]
  },
  {
   "cell_type": "code",
   "execution_count": 11,
   "id": "577c7edb",
   "metadata": {},
   "outputs": [
    {
     "data": {
      "text/plain": [
       "'ramkrishna'"
      ]
     },
     "execution_count": 11,
     "metadata": {},
     "output_type": "execute_result"
    }
   ],
   "source": [
    "ad = \"ramakrishna\"\n",
    "ad.replace(\"rama\",\"ram\")"
   ]
  },
  {
   "cell_type": "markdown",
   "id": "775de99a",
   "metadata": {},
   "source": [
    "10.try to give a definition of string center function with and example"
   ]
  },
  {
   "cell_type": "code",
   "execution_count": 12,
   "id": "95bb79bd",
   "metadata": {},
   "outputs": [
    {
     "data": {
      "text/plain": [
       "'###ram####'"
      ]
     },
     "execution_count": 12,
     "metadata": {},
     "output_type": "execute_result"
    }
   ],
   "source": [
    "s=\"ram\"\n",
    "s.center(10,'#')"
   ]
  },
  {
   "cell_type": "markdown",
   "id": "910affee",
   "metadata": {},
   "source": [
    "11.write your own definition of compiler and interpreter without copy paste fron internert"
   ]
  },
  {
   "cell_type": "markdown",
   "id": "87cddcdc",
   "metadata": {},
   "source": [
    "Pyhton is a compiled and interpreter language.first compiled .py then interpreted(.pyc)"
   ]
  },
  {
   "cell_type": "markdown",
   "id": "510bd845",
   "metadata": {},
   "source": [
    "13.try to write a usecase of python with your understanding."
   ]
  },
  {
   "cell_type": "markdown",
   "id": "62b7e4c4",
   "metadata": {},
   "source": [
    "Developing websites,\n",
    "task automation,\n",
    "data anaysis,\n",
    "data visualozation,\n",
    "and manymore."
   ]
  },
  {
   "cell_type": "markdown",
   "id": "cc32a3ba",
   "metadata": {},
   "source": [
    "Task 2:\n",
    "    1.l=[3,4,5,6,7,[23,456,45,45,435],[34,56,24],(243,445,4),{\"key1\":\"sudh\",234:[23,45,656]}]\n",
    "    1.try to reverse a list\n",
    "    2.try to access 234 in the list\n",
    "    3.try to access 456\n",
    "    4.try to extract only a list collection from list1\n",
    "    5.try to extract \"sudh\"\n",
    "    6.try to extarct list all the key in dict elements available in the list\n",
    "    7.try to extract all the value element form dict available in list."
   ]
  },
  {
   "cell_type": "markdown",
   "id": "e9243eeb",
   "metadata": {},
   "source": [
    "1.try to reverse a list "
   ]
  },
  {
   "cell_type": "code",
   "execution_count": 13,
   "id": "64753485",
   "metadata": {},
   "outputs": [
    {
     "data": {
      "text/plain": [
       "[{'key1': 'sudh', 234: [23, 45, 656]},\n",
       " (234, 445, 4),\n",
       " [34, 56, 24],\n",
       " [23, 456, 45, 45, 435],\n",
       " 7,\n",
       " 6,\n",
       " 5,\n",
       " 4,\n",
       " 3]"
      ]
     },
     "execution_count": 13,
     "metadata": {},
     "output_type": "execute_result"
    }
   ],
   "source": [
    "l=[3,4,5,6,7,[23,456,45,45,435],[34,56,24],(234,445,4),{\"key1\":\"sudh\",234:[23,45,656]}] \n",
    "l[::-1]"
   ]
  },
  {
   "cell_type": "markdown",
   "id": "a07f9be6",
   "metadata": {},
   "source": [
    "2.try to access 234 in the list"
   ]
  },
  {
   "cell_type": "code",
   "execution_count": 14,
   "id": "0b07abfc",
   "metadata": {},
   "outputs": [
    {
     "data": {
      "text/plain": [
       "234"
      ]
     },
     "execution_count": 14,
     "metadata": {},
     "output_type": "execute_result"
    }
   ],
   "source": [
    "l[7][0]"
   ]
  },
  {
   "cell_type": "code",
   "execution_count": 15,
   "id": "b64c49de",
   "metadata": {},
   "outputs": [
    {
     "data": {
      "text/plain": [
       "234"
      ]
     },
     "execution_count": 15,
     "metadata": {},
     "output_type": "execute_result"
    }
   ],
   "source": [
    "list(l[8].keys())[1]"
   ]
  },
  {
   "cell_type": "markdown",
   "id": "5d32f7d3",
   "metadata": {},
   "source": [
    "3.try to access 456 "
   ]
  },
  {
   "cell_type": "code",
   "execution_count": 16,
   "id": "df003b13",
   "metadata": {},
   "outputs": [
    {
     "data": {
      "text/plain": [
       "456"
      ]
     },
     "execution_count": 16,
     "metadata": {},
     "output_type": "execute_result"
    }
   ],
   "source": [
    "l[5][1]"
   ]
  },
  {
   "cell_type": "markdown",
   "id": "a60bf284",
   "metadata": {},
   "source": [
    "4.try to extract only a list collection from list1"
   ]
  },
  {
   "cell_type": "code",
   "execution_count": 17,
   "id": "935b1c86",
   "metadata": {},
   "outputs": [
    {
     "data": {
      "text/plain": [
       "[[23, 456, 45, 45, 435], [34, 56, 24]]"
      ]
     },
     "execution_count": 17,
     "metadata": {},
     "output_type": "execute_result"
    }
   ],
   "source": [
    "l[5:7]"
   ]
  },
  {
   "cell_type": "code",
   "execution_count": 18,
   "id": "9c61a4fb",
   "metadata": {},
   "outputs": [
    {
     "data": {
      "text/plain": [
       "[23, 456, 45, 45, 435]"
      ]
     },
     "execution_count": 18,
     "metadata": {},
     "output_type": "execute_result"
    }
   ],
   "source": [
    "l[5]"
   ]
  },
  {
   "cell_type": "code",
   "execution_count": 19,
   "id": "78535046",
   "metadata": {},
   "outputs": [
    {
     "data": {
      "text/plain": [
       "[34, 56, 24]"
      ]
     },
     "execution_count": 19,
     "metadata": {},
     "output_type": "execute_result"
    }
   ],
   "source": [
    "l[6]"
   ]
  },
  {
   "cell_type": "markdown",
   "id": "7f7d8f17",
   "metadata": {},
   "source": [
    "5.try to extract \"sudh\""
   ]
  },
  {
   "cell_type": "code",
   "execution_count": 20,
   "id": "80480a0c",
   "metadata": {},
   "outputs": [
    {
     "data": {
      "text/plain": [
       "'sudh'"
      ]
     },
     "execution_count": 20,
     "metadata": {},
     "output_type": "execute_result"
    }
   ],
   "source": [
    "list(l[8].values())[0]"
   ]
  },
  {
   "cell_type": "markdown",
   "id": "cab29af2",
   "metadata": {},
   "source": [
    "6.try to extarct list all the key in dict elements available in the list"
   ]
  },
  {
   "cell_type": "code",
   "execution_count": 21,
   "id": "4426b2d2",
   "metadata": {},
   "outputs": [
    {
     "data": {
      "text/plain": [
       "['key1', 234]"
      ]
     },
     "execution_count": 21,
     "metadata": {},
     "output_type": "execute_result"
    }
   ],
   "source": [
    "list(l[8].keys())"
   ]
  },
  {
   "cell_type": "markdown",
   "id": "e3368784",
   "metadata": {},
   "source": [
    "7.try to extract all the value element form dict available in list."
   ]
  },
  {
   "cell_type": "code",
   "execution_count": 22,
   "id": "e2531641",
   "metadata": {},
   "outputs": [
    {
     "data": {
      "text/plain": [
       "['sudh', [23, 45, 656]]"
      ]
     },
     "execution_count": 22,
     "metadata": {},
     "output_type": "execute_result"
    }
   ],
   "source": [
    "list(l[8].values())"
   ]
  },
  {
   "cell_type": "markdown",
   "id": "1006a86f",
   "metadata": {},
   "source": [
    "Task 3"
   ]
  },
  {
   "cell_type": "code",
   "execution_count": 24,
   "id": "cd7ecb0d",
   "metadata": {},
   "outputs": [
    {
     "ename": "IndentationError",
     "evalue": "unindent does not match any outer indentation level (<tokenize>, line 10)",
     "output_type": "error",
     "traceback": [
      "\u001b[1;36m  File \u001b[1;32m<tokenize>:10\u001b[1;36m\u001b[0m\n\u001b[1;33m    ineruon      ineruon\u001b[0m\n\u001b[1;37m    ^\u001b[0m\n\u001b[1;31mIndentationError\u001b[0m\u001b[1;31m:\u001b[0m unindent does not match any outer indentation level\n"
     ]
    }
   ],
   "source": [
    "q1 :\n",
    "ineruon \n",
    "ineruon ineruon \n",
    "ineruon ineruon ineruon\n",
    "ineruon ineruon ineruon ineruon\n",
    "\n",
    "q2 - \n",
    "\n",
    "          ineruon\n",
    "    ineruon      ineruon\n",
    "ineruon\t\tineruon \tineruon\n",
    "\tineruon\t\t ineruon\n",
    "\t\t  ineruon\n",
    "\n",
    "l = [[1,2,3,4] , (2,3,4,5,6) , (3,4,5,6,7) , set([23,4,5,45,4,4,5,45,45,4,5]) , {'k1' :\"sudh\" , \"k2\" : \"ineuron\",\"k3\":\n",
    "            \"kumar\" , 3:6 , 7:8} , [\"ineuron\" , \"data science \"]]\n",
    "\n",
    "q3 : Try to extract all the list entity \n",
    "q4 : Try to extract all the dict enteties\n",
    "q5 : Try to extract all the tuples entities\n",
    "q6 : Try to extract all the numerical data it may b a part of dict key and values \n",
    "q7 : Try to give summation of all the numeric data \n",
    "q8 : Try to filter out all the odd values out all numeric data which is a part of a list \n",
    "q9 : Try to extract \"ineruon\" out of this data\n",
    "q10 :Try to find out a number of occurances of all the data \n",
    "q11 : Try to find out number of keys in dict element\n",
    "q12 : Try to filter out all the string data \n",
    "q13 : Try to Find  out alphanum in data\n",
    "q14 : Try to find out multiplication of all numeric value in  the individual collection inside dataset \n",
    "q15 : Try to unwrape all the collection inside collection and create a flat list \n",
    "    \n",
    "    \n",
    "before 29th may 2022 3 PM IST you have to send an answer to me or to shivan \n",
    "sudhanshu@ineuron.ai\n",
    "shivan@ineuron.ai"
   ]
  },
  {
   "cell_type": "code",
   "execution_count": 25,
   "id": "2416c9b4",
   "metadata": {},
   "outputs": [
    {
     "name": "stdout",
     "output_type": "stream",
     "text": [
      "enter the number of rows:\n"
     ]
    },
    {
     "ename": "ValueError",
     "evalue": "invalid literal for int() with base 10: ''",
     "output_type": "error",
     "traceback": [
      "\u001b[1;31m---------------------------------------------------------------------------\u001b[0m",
      "\u001b[1;31mValueError\u001b[0m                                Traceback (most recent call last)",
      "Input \u001b[1;32mIn [25]\u001b[0m, in \u001b[0;36m<cell line: 1>\u001b[1;34m()\u001b[0m\n\u001b[1;32m----> 1\u001b[0m n\u001b[38;5;241m=\u001b[39m\u001b[38;5;28;43mint\u001b[39;49m\u001b[43m(\u001b[49m\u001b[38;5;28;43minput\u001b[39;49m\u001b[43m(\u001b[49m\u001b[38;5;124;43m\"\u001b[39;49m\u001b[38;5;124;43menter the number of rows:\u001b[39;49m\u001b[38;5;124;43m\"\u001b[39;49m\u001b[43m)\u001b[49m\u001b[43m)\u001b[49m\n\u001b[0;32m      2\u001b[0m \u001b[38;5;28;01mfor\u001b[39;00m i \u001b[38;5;129;01min\u001b[39;00m \u001b[38;5;28mrange\u001b[39m(n\u001b[38;5;241m+\u001b[39m\u001b[38;5;241m1\u001b[39m):\n\u001b[0;32m      4\u001b[0m     \u001b[38;5;28mprint\u001b[39m(\u001b[38;5;124m\"\u001b[39m\u001b[38;5;124mineuron\u001b[39m\u001b[38;5;124m\"\u001b[39m \u001b[38;5;124m\"\u001b[39m\u001b[38;5;124m \u001b[39m\u001b[38;5;124m\"\u001b[39m \u001b[38;5;241m*\u001b[39mi)\n",
      "\u001b[1;31mValueError\u001b[0m: invalid literal for int() with base 10: ''"
     ]
    }
   ],
   "source": [
    "n=int(input(\"enter the number of rows:\"))\n",
    "for i in range(n+1):\n",
    "    \n",
    "    print(\"ineuron\" \" \" *i)"
   ]
  },
  {
   "cell_type": "code",
   "execution_count": 26,
   "id": "8401e8df",
   "metadata": {},
   "outputs": [
    {
     "name": "stdout",
     "output_type": "stream",
     "text": [
      "enter the number of rows:\n"
     ]
    },
    {
     "ename": "ValueError",
     "evalue": "invalid literal for int() with base 10: ''",
     "output_type": "error",
     "traceback": [
      "\u001b[1;31m---------------------------------------------------------------------------\u001b[0m",
      "\u001b[1;31mValueError\u001b[0m                                Traceback (most recent call last)",
      "Input \u001b[1;32mIn [26]\u001b[0m, in \u001b[0;36m<cell line: 1>\u001b[1;34m()\u001b[0m\n\u001b[1;32m----> 1\u001b[0m n\u001b[38;5;241m=\u001b[39m\u001b[38;5;28;43mint\u001b[39;49m\u001b[43m(\u001b[49m\u001b[38;5;28;43minput\u001b[39;49m\u001b[43m(\u001b[49m\u001b[38;5;124;43m\"\u001b[39;49m\u001b[38;5;124;43menter the number of rows:\u001b[39;49m\u001b[38;5;124;43m\"\u001b[39;49m\u001b[43m)\u001b[49m\u001b[43m)\u001b[49m\n\u001b[0;32m      2\u001b[0m \u001b[38;5;28;01mfor\u001b[39;00m i \u001b[38;5;129;01min\u001b[39;00m \u001b[38;5;28mrange\u001b[39m(n\u001b[38;5;241m+\u001b[39m\u001b[38;5;241m1\u001b[39m):\n\u001b[0;32m      4\u001b[0m     \u001b[38;5;28mprint\u001b[39m((\u001b[38;5;124m\"\u001b[39m\u001b[38;5;124mineuron\u001b[39m\u001b[38;5;124m\"\u001b[39m \u001b[38;5;124m\"\u001b[39m\u001b[38;5;124m  \u001b[39m\u001b[38;5;124m\"\u001b[39m\u001b[38;5;241m*\u001b[39mi)\u001b[38;5;241m.\u001b[39mcenter(\u001b[38;5;241m50\u001b[39m,\u001b[38;5;124m'\u001b[39m\u001b[38;5;124m \u001b[39m\u001b[38;5;124m'\u001b[39m))\n",
      "\u001b[1;31mValueError\u001b[0m: invalid literal for int() with base 10: ''"
     ]
    }
   ],
   "source": [
    "n=int(input(\"enter the number of rows:\"))\n",
    "for i in range(n+1):\n",
    "    \n",
    "    print((\"ineuron\" \"  \"*i).center(50,' '))"
   ]
  },
  {
   "cell_type": "code",
   "execution_count": 27,
   "id": "9b8c19ec",
   "metadata": {},
   "outputs": [
    {
     "name": "stdout",
     "output_type": "stream",
     "text": [
      "                                                  \n",
      "                     ineuron                      \n",
      "                 ineuron ineuron                  \n",
      "             ineuron ineuron ineuron              \n",
      "                 ineuron ineuron                  \n",
      "                     ineuron                      \n"
     ]
    }
   ],
   "source": [
    "\n",
    "for i in range(6):\n",
    "    if i<=3:\n",
    "        n=i\n",
    "    else:\n",
    "        n=6-i\n",
    "    print((\"ineuron \"*n).center(50,' '))\n",
    "    "
   ]
  },
  {
   "cell_type": "code",
   "execution_count": 28,
   "id": "876c692b",
   "metadata": {},
   "outputs": [],
   "source": [
    "l = [[1,2,3,4] , (2,3,4,5,6) , (3,4,5,6,7) , set([23,4,5,45,4,4,5,45,45,4,5]) , {'k1' :\"sudh\" , \"k2\" : \"ineuron\",\"k3\":\n",
    "            \"kumar\" , 3:6 , 7:8} , [\"ineuron\" , \"data science \"]]\n"
   ]
  },
  {
   "cell_type": "markdown",
   "id": "10868e61",
   "metadata": {},
   "source": [
    "q3 : Try to extract all the list entity "
   ]
  },
  {
   "cell_type": "code",
   "execution_count": 29,
   "id": "81de074a",
   "metadata": {},
   "outputs": [
    {
     "name": "stdout",
     "output_type": "stream",
     "text": [
      "[1, 2, 3, 4]\n",
      "['ineuron', 'data science ']\n"
     ]
    }
   ],
   "source": [
    "for i in l:\n",
    "    if type(i)==list:\n",
    "        print(i)"
   ]
  },
  {
   "cell_type": "markdown",
   "id": "a3e91de7",
   "metadata": {},
   "source": [
    "q4 : Try to extract all the dict enteties"
   ]
  },
  {
   "cell_type": "code",
   "execution_count": 30,
   "id": "306195c7",
   "metadata": {},
   "outputs": [
    {
     "name": "stdout",
     "output_type": "stream",
     "text": [
      "{'k1': 'sudh', 'k2': 'ineuron', 'k3': 'kumar', 3: 6, 7: 8}\n"
     ]
    }
   ],
   "source": [
    "for i in l:\n",
    "    if type(i)==dict:\n",
    "        print(i)"
   ]
  },
  {
   "cell_type": "markdown",
   "id": "b10fc43c",
   "metadata": {},
   "source": [
    "q5 : Try to extract all the tuples entities"
   ]
  },
  {
   "cell_type": "code",
   "execution_count": 31,
   "id": "07fb72b4",
   "metadata": {},
   "outputs": [
    {
     "name": "stdout",
     "output_type": "stream",
     "text": [
      "(2, 3, 4, 5, 6)\n",
      "(3, 4, 5, 6, 7)\n"
     ]
    }
   ],
   "source": [
    "for i in l:\n",
    "    if type(i)==tuple:\n",
    "        print(i)"
   ]
  },
  {
   "cell_type": "markdown",
   "id": "fcf93d5f",
   "metadata": {},
   "source": [
    "q6 : Try to extract all the numerical data it may b a part of dict key and values "
   ]
  },
  {
   "cell_type": "code",
   "execution_count": 32,
   "id": "1f4c8d53",
   "metadata": {},
   "outputs": [
    {
     "data": {
      "text/plain": [
       "[1, 2, 3, 4, 2, 3, 4, 5, 6, 3, 4, 5, 6, 7, 45, 4, 5, 23, 3, 6, 7, 8]"
      ]
     },
     "execution_count": 32,
     "metadata": {},
     "output_type": "execute_result"
    }
   ],
   "source": [
    "l1=[]\n",
    "for i in l:\n",
    "    if type(i)==list or type(i)==tuple or type(i)==set:\n",
    "        for j in i:\n",
    "            if type(j)==int:\n",
    "                l1.append(j)\n",
    "    if type(i)==dict:\n",
    "        for k in i.items():\n",
    "            for g in k:\n",
    "                if type(g)==int:\n",
    "                    l1.append(g)\n",
    "l1\n",
    "                \n",
    "        "
   ]
  },
  {
   "cell_type": "markdown",
   "id": "504d3b4c",
   "metadata": {},
   "source": [
    "q7 : Try to give summation of all the numeric data "
   ]
  },
  {
   "cell_type": "code",
   "execution_count": 33,
   "id": "1e0c40a4",
   "metadata": {},
   "outputs": [
    {
     "data": {
      "text/plain": [
       "156"
      ]
     },
     "execution_count": 33,
     "metadata": {},
     "output_type": "execute_result"
    }
   ],
   "source": [
    "sum(l1)"
   ]
  },
  {
   "cell_type": "code",
   "execution_count": 34,
   "id": "d2ed8ad7",
   "metadata": {},
   "outputs": [
    {
     "data": {
      "text/plain": [
       "[1, 2, 3, 4, 2, 3, 4, 5, 6, 3, 4, 5, 6, 7, 45, 4, 5, 23, 3, 6, 7, 8]"
      ]
     },
     "execution_count": 34,
     "metadata": {},
     "output_type": "execute_result"
    }
   ],
   "source": [
    "l1"
   ]
  },
  {
   "cell_type": "code",
   "execution_count": 35,
   "id": "d439ae47",
   "metadata": {},
   "outputs": [],
   "source": [
    "l2=[]\n",
    "for i in l1:\n",
    "    if i%2==0:\n",
    "        pass\n",
    "    else:\n",
    "        l2.append(i)\n",
    "        "
   ]
  },
  {
   "cell_type": "code",
   "execution_count": 36,
   "id": "6642e5cb",
   "metadata": {},
   "outputs": [
    {
     "data": {
      "text/plain": [
       "[1, 3, 3, 5, 3, 5, 7, 45, 5, 23, 3, 7]"
      ]
     },
     "execution_count": 36,
     "metadata": {},
     "output_type": "execute_result"
    }
   ],
   "source": [
    "l2"
   ]
  },
  {
   "cell_type": "code",
   "execution_count": 37,
   "id": "71667f92",
   "metadata": {},
   "outputs": [
    {
     "name": "stdout",
     "output_type": "stream",
     "text": [
      "1\n",
      "3\n",
      "3\n",
      "5\n",
      "3\n",
      "5\n",
      "7\n",
      "45\n",
      "5\n",
      "23\n",
      "3\n",
      "7\n"
     ]
    }
   ],
   "source": [
    "l2=[]\n",
    "for i in l1:\n",
    "    if i%2==0:\n",
    "        pass\n",
    "    else:\n",
    "        print(i)\n",
    "        "
   ]
  },
  {
   "cell_type": "code",
   "execution_count": 38,
   "id": "e1293b42",
   "metadata": {},
   "outputs": [],
   "source": [
    "l = [[1,2,3,4] , (2,3,4,5,6) , (3,4,5,6,7) , set([23,4,5,45,4,4,5,45,45,4,5]) , {'k1' :\"sudh\" , \"k2\" : \"ineuron\",\"k3\":\n",
    "            \"kumar\" , 3:6 , 7:8} , [\"ineuron\" , \"data science \"]]"
   ]
  },
  {
   "cell_type": "code",
   "execution_count": 39,
   "id": "259189a2",
   "metadata": {},
   "outputs": [
    {
     "data": {
      "text/plain": [
       "'ineuron'"
      ]
     },
     "execution_count": 39,
     "metadata": {},
     "output_type": "execute_result"
    }
   ],
   "source": [
    "l[5][0]"
   ]
  },
  {
   "cell_type": "code",
   "execution_count": 40,
   "id": "f500a0ec",
   "metadata": {},
   "outputs": [],
   "source": [
    "l3=[]\n",
    "for i in l:\n",
    "    if type(i)==list or type(i)==tuple or type(i)==set:\n",
    "        for j in i:\n",
    "            if j==\"ineuron\":\n",
    "                l3.append(j)\n",
    "    if type(i)==dict:\n",
    "        for k in i.items():\n",
    "            for g in k:\n",
    "                if g==\"ineuron\":\n",
    "                    l3.append(g)\n",
    "\n",
    "                "
   ]
  },
  {
   "cell_type": "markdown",
   "id": "7e20d963",
   "metadata": {},
   "source": [
    "### "
   ]
  },
  {
   "cell_type": "code",
   "execution_count": 41,
   "id": "5b6a1b9a",
   "metadata": {},
   "outputs": [
    {
     "data": {
      "text/plain": [
       "['ineuron', 'ineuron']"
      ]
     },
     "execution_count": 41,
     "metadata": {},
     "output_type": "execute_result"
    }
   ],
   "source": [
    "l3"
   ]
  },
  {
   "cell_type": "markdown",
   "id": "a685e990",
   "metadata": {},
   "source": [
    "q10 :Try to find out a number of occurances of all the data "
   ]
  },
  {
   "cell_type": "code",
   "execution_count": 42,
   "id": "317f47dc",
   "metadata": {},
   "outputs": [
    {
     "data": {
      "text/plain": [
       "[[1, 2, 3, 4],\n",
       " (2, 3, 4, 5, 6),\n",
       " (3, 4, 5, 6, 7),\n",
       " {4, 5, 23, 45},\n",
       " {'k1': 'sudh', 'k2': 'ineuron', 'k3': 'kumar', 3: 6, 7: 8},\n",
       " ['ineuron', 'data science ']]"
      ]
     },
     "execution_count": 42,
     "metadata": {},
     "output_type": "execute_result"
    }
   ],
   "source": [
    "l"
   ]
  },
  {
   "cell_type": "code",
   "execution_count": 43,
   "id": "3904d8b1",
   "metadata": {},
   "outputs": [
    {
     "data": {
      "text/plain": [
       "[1,\n",
       " 2,\n",
       " 3,\n",
       " 4,\n",
       " 2,\n",
       " 3,\n",
       " 4,\n",
       " 5,\n",
       " 6,\n",
       " 3,\n",
       " 4,\n",
       " 5,\n",
       " 6,\n",
       " 7,\n",
       " 45,\n",
       " 4,\n",
       " 5,\n",
       " 23,\n",
       " 3,\n",
       " 6,\n",
       " 7,\n",
       " 8,\n",
       " 1,\n",
       " 2,\n",
       " 3,\n",
       " 4,\n",
       " 2,\n",
       " 3,\n",
       " 4,\n",
       " 5,\n",
       " 6,\n",
       " 3,\n",
       " 4,\n",
       " 5,\n",
       " 6,\n",
       " 7,\n",
       " 45,\n",
       " 4,\n",
       " 5,\n",
       " 23,\n",
       " 'k1',\n",
       " 'sudh',\n",
       " 'k2',\n",
       " 'ineuron',\n",
       " 'k3',\n",
       " 'kumar',\n",
       " 3,\n",
       " 6,\n",
       " 7,\n",
       " 8,\n",
       " 'ineuron',\n",
       " 'data science ']"
      ]
     },
     "execution_count": 43,
     "metadata": {},
     "output_type": "execute_result"
    }
   ],
   "source": [
    "l4=[]\n",
    "for i in l:\n",
    "    if type(i)==list or type(i)==tuple or type(i)==set:\n",
    "        for j in i:\n",
    "            if type(j)==int or type(j)==str:\n",
    "                l1.append(j)\n",
    "    if type(i)==dict:\n",
    "        for k in i.items():\n",
    "            for g in k:\n",
    "                if type(g)==int or type(g)==str:\n",
    "                    l1.append(g)\n",
    "l1\n",
    "             "
   ]
  },
  {
   "cell_type": "code",
   "execution_count": 44,
   "id": "565027c0",
   "metadata": {},
   "outputs": [
    {
     "data": {
      "text/plain": [
       "[1,\n",
       " 2,\n",
       " 3,\n",
       " 4,\n",
       " 2,\n",
       " 3,\n",
       " 4,\n",
       " 5,\n",
       " 6,\n",
       " 3,\n",
       " 4,\n",
       " 5,\n",
       " 6,\n",
       " 7,\n",
       " 45,\n",
       " 4,\n",
       " 5,\n",
       " 23,\n",
       " 3,\n",
       " 6,\n",
       " 7,\n",
       " 8,\n",
       " 1,\n",
       " 2,\n",
       " 3,\n",
       " 4,\n",
       " 2,\n",
       " 3,\n",
       " 4,\n",
       " 5,\n",
       " 6,\n",
       " 3,\n",
       " 4,\n",
       " 5,\n",
       " 6,\n",
       " 7,\n",
       " 45,\n",
       " 4,\n",
       " 5,\n",
       " 23,\n",
       " 'k1',\n",
       " 'sudh',\n",
       " 'k2',\n",
       " 'ineuron',\n",
       " 'k3',\n",
       " 'kumar',\n",
       " 3,\n",
       " 6,\n",
       " 7,\n",
       " 8,\n",
       " 'ineuron',\n",
       " 'data science ']"
      ]
     },
     "execution_count": 44,
     "metadata": {},
     "output_type": "execute_result"
    }
   ],
   "source": [
    "l1"
   ]
  },
  {
   "cell_type": "code",
   "execution_count": 45,
   "id": "f390e9c0",
   "metadata": {},
   "outputs": [
    {
     "name": "stdout",
     "output_type": "stream",
     "text": [
      "1 : 2\n",
      "2 : 4\n",
      "3 : 8\n",
      "4 : 8\n",
      "5 : 6\n",
      "6 : 6\n",
      "7 : 4\n",
      "8 : 2\n",
      "k1 : 1\n",
      "ineuron : 2\n",
      "45 : 2\n",
      "k3 : 1\n",
      "k2 : 1\n",
      "sudh : 1\n",
      "kumar : 1\n",
      "data science  : 1\n",
      "23 : 2\n"
     ]
    }
   ],
   "source": [
    "for i in set(l1):\n",
    "    print(i,\":\",l1.count(i))"
   ]
  },
  {
   "cell_type": "markdown",
   "id": "f5982d99",
   "metadata": {},
   "source": [
    "q11 : Try to find out number of keys in dict element"
   ]
  },
  {
   "cell_type": "code",
   "execution_count": 46,
   "id": "62e0d90c",
   "metadata": {},
   "outputs": [
    {
     "name": "stdout",
     "output_type": "stream",
     "text": [
      "5\n"
     ]
    }
   ],
   "source": [
    "for i in l:\n",
    "    if type(i)==dict:\n",
    "        print(len(i.keys()))"
   ]
  },
  {
   "cell_type": "code",
   "execution_count": 47,
   "id": "18863152",
   "metadata": {},
   "outputs": [
    {
     "name": "stdout",
     "output_type": "stream",
     "text": [
      "5\n"
     ]
    }
   ],
   "source": [
    "for i in l:\n",
    "    if type(i)==dict:\n",
    "        print(len(i))"
   ]
  },
  {
   "cell_type": "markdown",
   "id": "0f25c7cf",
   "metadata": {},
   "source": [
    "q12 : Try to filter out all the string data "
   ]
  },
  {
   "cell_type": "code",
   "execution_count": 48,
   "id": "9f690b6a",
   "metadata": {},
   "outputs": [
    {
     "name": "stdout",
     "output_type": "stream",
     "text": [
      "k1\n",
      "sudh\n",
      "k2\n",
      "ineuron\n",
      "k3\n",
      "kumar\n",
      "ineuron\n",
      "data science \n"
     ]
    }
   ],
   "source": [
    "for i in l1:\n",
    "    if type(i)==str:\n",
    "        print(i)"
   ]
  },
  {
   "cell_type": "markdown",
   "id": "6012dd46",
   "metadata": {},
   "source": [
    "q13 : Try to Find  out alphanum in data"
   ]
  },
  {
   "cell_type": "code",
   "execution_count": 49,
   "id": "583e47b7",
   "metadata": {},
   "outputs": [
    {
     "name": "stdout",
     "output_type": "stream",
     "text": [
      "k1\n",
      "sudh\n",
      "k2\n",
      "ineuron\n",
      "k3\n",
      "kumar\n",
      "ineuron\n"
     ]
    }
   ],
   "source": [
    "for i in l1:\n",
    "    if type(i)==str:\n",
    "        if i.isalnum():\n",
    "            print(i)"
   ]
  },
  {
   "cell_type": "markdown",
   "id": "a01b83ac",
   "metadata": {},
   "source": [
    "Q12: Try to find out multiplication of all numeric value in the individual collection inside dataset"
   ]
  },
  {
   "cell_type": "code",
   "execution_count": 50,
   "id": "ea4fc6d2",
   "metadata": {},
   "outputs": [
    {
     "data": {
      "text/plain": [
       "[1,\n",
       " 2,\n",
       " 3,\n",
       " 4,\n",
       " 2,\n",
       " 3,\n",
       " 4,\n",
       " 5,\n",
       " 6,\n",
       " 3,\n",
       " 4,\n",
       " 5,\n",
       " 6,\n",
       " 7,\n",
       " 45,\n",
       " 4,\n",
       " 5,\n",
       " 23,\n",
       " 3,\n",
       " 6,\n",
       " 7,\n",
       " 8,\n",
       " 1,\n",
       " 2,\n",
       " 3,\n",
       " 4,\n",
       " 2,\n",
       " 3,\n",
       " 4,\n",
       " 5,\n",
       " 6,\n",
       " 3,\n",
       " 4,\n",
       " 5,\n",
       " 6,\n",
       " 7,\n",
       " 45,\n",
       " 4,\n",
       " 5,\n",
       " 23,\n",
       " 'k1',\n",
       " 'sudh',\n",
       " 'k2',\n",
       " 'ineuron',\n",
       " 'k3',\n",
       " 'kumar',\n",
       " 3,\n",
       " 6,\n",
       " 7,\n",
       " 8,\n",
       " 'ineuron',\n",
       " 'data science ']"
      ]
     },
     "execution_count": 50,
     "metadata": {},
     "output_type": "execute_result"
    }
   ],
   "source": [
    "l1"
   ]
  },
  {
   "cell_type": "code",
   "execution_count": 51,
   "id": "f564a64a",
   "metadata": {},
   "outputs": [
    {
     "data": {
      "text/plain": [
       "[[1, 2, 3, 4],\n",
       " (2, 3, 4, 5, 6),\n",
       " (3, 4, 5, 6, 7),\n",
       " {4, 5, 23, 45},\n",
       " {'k1': 'sudh', 'k2': 'ineuron', 'k3': 'kumar', 3: 6, 7: 8},\n",
       " ['ineuron', 'data science ']]"
      ]
     },
     "execution_count": 51,
     "metadata": {},
     "output_type": "execute_result"
    }
   ],
   "source": [
    "\n",
    "\n",
    "    l\n",
    "        "
   ]
  },
  {
   "cell_type": "code",
   "execution_count": 52,
   "id": "7e140282",
   "metadata": {},
   "outputs": [
    {
     "name": "stdout",
     "output_type": "stream",
     "text": [
      "24\n",
      "720\n",
      "2520\n",
      "20700\n",
      "1008\n",
      "1\n"
     ]
    }
   ],
   "source": [
    "\n",
    "for i in l:\n",
    "    m=1\n",
    "    if type(i)==list or type(i)== tuple or type(i)== set:\n",
    "        for j in i:\n",
    "            if type(j)==int:\n",
    "                m=m*j\n",
    "        print(m)\n",
    "    if type(i)==dict:\n",
    "        for k in i.items():\n",
    "            for n in k:\n",
    "                if type(n)==int:\n",
    "                    m=m*n\n",
    "        print(m)\n",
    "        "
   ]
  },
  {
   "cell_type": "code",
   "execution_count": 53,
   "id": "9242083d",
   "metadata": {},
   "outputs": [],
   "source": [
    "#Task 4"
   ]
  },
  {
   "cell_type": "code",
   "execution_count": 54,
   "id": "6697ba19",
   "metadata": {},
   "outputs": [
    {
     "ename": "SyntaxError",
     "evalue": "invalid syntax (3342421035.py, line 1)",
     "output_type": "error",
     "traceback": [
      "\u001b[1;36m  Input \u001b[1;32mIn [54]\u001b[1;36m\u001b[0m\n\u001b[1;33m    q1 : Try to print this by using while loop\u001b[0m\n\u001b[1;37m             ^\u001b[0m\n\u001b[1;31mSyntaxError\u001b[0m\u001b[1;31m:\u001b[0m invalid syntax\n"
     ]
    }
   ],
   "source": [
    "q1 : Try to print this by using while loop \n",
    "* \n",
    "* * \n",
    "* * * \n",
    "* * * * \n",
    "* * * * * \n",
    "* * * * * * \n",
    "* * * * * * * \n",
    "* * * * * * * * \n",
    "* * * * * * * * * \n",
    "\n",
    "q2 : try to print below by using while loop : \n",
    "        \n",
    "A\n",
    "B H \n",
    "C I N\n",
    "D J o S\n",
    "E K p T W\n",
    "F L Q U X z\n",
    "G M R V Y \n",
    "\n",
    "q3 : Try to print all the number divisible by 3 in between a range of 40 - 400\n",
    "    \n",
    "q4 : Try to filter out all the vowels form below text by using while loop : \n",
    " \"\"\"Python is a high-level, interpreted, general-purpose programming language. Its design philosophy emphasizes code readability with the use of significant indentation.[32]\n",
    "\n",
    "Python is dynamically-typed and garbage-collected. It supports multiple programming paradigms, including structured (particularly procedural), object-oriented and functional programming. It is often described as a \"batteries included\" language due to its comprehensive standard library.[33][34]\n",
    "\n",
    "Guido van Rossum began working on Python in the late 1980s as a successor to the ABC programming language and first released it in 1991 as Python 0.9.0.[35] Python 2.0 was released in 2000 and introduced new features such as list comprehensions, cycle-detecting garbage collection, reference counting, and Unicode support. Python 3.0, released in 2008, was a major revision that is not completely backward-compatible with earlier versions. Python 2 was discontinued with version 2.7.18 in 2020.[36]\n",
    "\n",
    "Python consistently ranks as one of the most popular programming languagesc\"\"\" \n",
    "\n",
    "\n",
    "q5 : Try to generate all the even number between 1- 1000\n",
    "\n",
    "q6 : Define a function for all the above problem statememnt  . \n",
    "    \n",
    "q7 : write a code to get a time of your system \n",
    "\n",
    "q8 : Write a code to fetch date form your system \n",
    "\n",
    "q9 : Write a code to send a mail to your friend \n",
    "\n",
    "q10 : write a code to trigger alarm for you at scheduled time \n",
    "\n",
    "q11 : write a code to check ip address of your system \n",
    "\n",
    "q12 : Write a code to check a perticular installation in your system\n",
    "\n",
    "q13 : Write a code to convert any text in to voice \n",
    "\n",
    "q14 : you have to write a fun which will take string and return a len of \n",
    "it without using a inbuilt fun len\n",
    "\n",
    "q15 :write a fun which will be able to print an index of all premitive element which you will pass \n",
    "\n",
    "q16 : Write a fun which will take input as a dict and give me out as a list of all the values \n",
    "even in case of 2 level nesting it should work . \n",
    "\n",
    "q17 : write a function whihc will take multiple list as a input and give me concatnation of all the element as \n",
    "and output\n",
    "\n",
    "q18 : Write a function which will whould return list of all the file name from a directory . \n",
    "\n",
    "q19 : write a function whihc will be able to read a image file and show it to you .\n",
    "    \n",
    "q20 : write a function by which you will be able to append two PDF files . \n",
    "    \n",
    "q21 : write a function which can help you to filter only word file from a directory . \n",
    "    \n",
    "q22 : write a function which can read video file and play for you . \n",
    "    \n",
    "q23 : write a function which will be able to shutdonw your system . \n",
    "\n",
    "q24 : Write a function which will whould return list of all the file name from a directory . \n",
    "\n",
    "q25 : write a function whihc will be able to access your mail . \n",
    "        "
   ]
  },
  {
   "cell_type": "code",
   "execution_count": 55,
   "id": "9578b713",
   "metadata": {},
   "outputs": [
    {
     "ename": "SyntaxError",
     "evalue": "invalid syntax (4094368511.py, line 1)",
     "output_type": "error",
     "traceback": [
      "\u001b[1;36m  Input \u001b[1;32mIn [55]\u001b[1;36m\u001b[0m\n\u001b[1;33m    q1 : Try to print this by using while loop\u001b[0m\n\u001b[1;37m             ^\u001b[0m\n\u001b[1;31mSyntaxError\u001b[0m\u001b[1;31m:\u001b[0m invalid syntax\n"
     ]
    }
   ],
   "source": [
    "q1 : Try to print this by using while loop \n",
    "* \n",
    "* * \n",
    "* * * \n",
    "* * * * \n",
    "* * * * * \n",
    "* * * * * * \n",
    "* * * * * * * \n",
    "* * * * * * * * \n",
    "* * * * * * * * * "
   ]
  },
  {
   "cell_type": "code",
   "execution_count": 56,
   "id": "56544474",
   "metadata": {},
   "outputs": [
    {
     "name": "stdout",
     "output_type": "stream",
     "text": [
      "* \n",
      "* * \n",
      "* * * \n",
      "* * * * \n",
      "* * * * * \n",
      "* * * * * * \n",
      "* * * * * * * \n",
      "* * * * * * * * \n",
      "* * * * * * * * * \n"
     ]
    }
   ],
   "source": [
    "i=9\n",
    "n=1\n",
    "while n<=i:\n",
    "    print(\"* \"*n)\n",
    "    n=n+1"
   ]
  },
  {
   "cell_type": "code",
   "execution_count": 57,
   "id": "a24c542c",
   "metadata": {},
   "outputs": [
    {
     "ename": "SyntaxError",
     "evalue": "invalid syntax (1223279439.py, line 1)",
     "output_type": "error",
     "traceback": [
      "\u001b[1;36m  Input \u001b[1;32mIn [57]\u001b[1;36m\u001b[0m\n\u001b[1;33m    q2 : try to print below by using while loop :\u001b[0m\n\u001b[1;37m         ^\u001b[0m\n\u001b[1;31mSyntaxError\u001b[0m\u001b[1;31m:\u001b[0m invalid syntax\n"
     ]
    }
   ],
   "source": [
    "q2 : try to print below by using while loop : \n",
    "        \n",
    "A\n",
    "B H \n",
    "C I N\n",
    "D J o S\n",
    "E K p T W\n",
    "F L Q U X z\n",
    "G M R V Y "
   ]
  },
  {
   "cell_type": "code",
   "execution_count": 58,
   "id": "248d5e72",
   "metadata": {},
   "outputs": [
    {
     "name": "stdout",
     "output_type": "stream",
     "text": [
      "A \n",
      "B H \n",
      "C I N \n",
      "D J O S \n",
      "E K P T W \n",
      "F L Q U X Z \n",
      "G M R V Y \n"
     ]
    }
   ],
   "source": [
    "i=0\n",
    "while i<7:\n",
    "    l=7\n",
    "    k=i+65  \n",
    "    for j in range(i+1):\n",
    "        if chr(k).isalpha():\n",
    "         print(chr(k),end=\" \") \n",
    "         l-=1\n",
    "         k+=l     \n",
    "    i += 1\n",
    "    print()"
   ]
  },
  {
   "cell_type": "code",
   "execution_count": 59,
   "id": "04892963",
   "metadata": {},
   "outputs": [
    {
     "name": "stdout",
     "output_type": "stream",
     "text": [
      "A \n",
      "B H \n",
      "C I N \n",
      "D J O S \n",
      "E K P T W \n",
      "F L Q U X Z \n",
      "G M R V Y \n"
     ]
    }
   ],
   "source": [
    "i=0\n",
    "while i<7:\n",
    "    c=65+i\n",
    "    j=0\n",
    "    while j <(i+1):\n",
    "        if c==91:\n",
    "            break\n",
    "        print(chr(c),end=\" \")\n",
    "        c=c+6-j\n",
    "        j+=1\n",
    "    i+=1\n",
    "    print()"
   ]
  },
  {
   "cell_type": "code",
   "execution_count": 61,
   "id": "1bc611a6",
   "metadata": {},
   "outputs": [
    {
     "name": "stdout",
     "output_type": "stream",
     "text": [
      "enter first number10\n",
      "enter second number0\n",
      "non zero denomitor\n",
      "enter first number10\n",
      "enter second numberrs\n",
      "there should not be string\n",
      "enter first number1\n",
      "enter second number1\n",
      "1.0\n"
     ]
    }
   ],
   "source": [
    "while True:\n",
    "    try:\n",
    "        a=int(input(\"enter first number\"))\n",
    "        b=int(input(\"enter second number\"))\n",
    "        c=a/b\n",
    "        print(c)\n",
    "        break\n",
    "    \n",
    "    except ValueError: \n",
    "        print(\"there should not be string\")\n",
    "    except ZeroDivisionError:\n",
    "        print(\"non zero denomitor\")"
   ]
  },
  {
   "cell_type": "code",
   "execution_count": 63,
   "id": "9a20202f",
   "metadata": {},
   "outputs": [
    {
     "name": "stdout",
     "output_type": "stream",
     "text": [
      "enter first num10\n",
      "enter second number-1\n",
      "neg number not allowed\n",
      "enter first num10\n",
      "enter second numberre\n",
      "please enter value only\n",
      "enter first num10\n",
      "enter second number10\n",
      "div is  1.0\n"
     ]
    }
   ],
   "source": [
    "\n",
    "\n",
    "while True:\n",
    "    try:\n",
    "        a=int(input(\"enter first num\"))\n",
    "        b=int(input(\"enter second number\"))\n",
    "        if a<0 or b<0:\n",
    "            raise Exception (\"neg number not allowed\")\n",
    "        c=a/b\n",
    "        print(\"div is \",c)\n",
    "        break\n",
    "    except ValueError:\n",
    "        print(\"please enter value only\")\n",
    "    except ZeroDivisionError:\n",
    "        print(\"please enter non zero dinimonator\")\n",
    "    except Exception as e:\n",
    "        print(e)\n"
   ]
  },
  {
   "cell_type": "code",
   "execution_count": 65,
   "id": "3a1dc35c",
   "metadata": {},
   "outputs": [],
   "source": [
    "class NegativeException(Exception):\n",
    "    pass"
   ]
  },
  {
   "cell_type": "code",
   "execution_count": 66,
   "id": "c087b05f",
   "metadata": {},
   "outputs": [
    {
     "name": "stdout",
     "output_type": "stream",
     "text": [
      "enter first num10\n",
      "enter second number0\n",
      "please enter non zero dinimonator\n",
      "enter first num10\n",
      "enter second number-1\n",
      "neg number not allowed\n",
      "enter first num1\n",
      "enter second number1\n",
      "div is  1.0\n"
     ]
    }
   ],
   "source": [
    "#custom Exception\n",
    "while True:\n",
    "    try:\n",
    "        a=int(input(\"enter first num\"))\n",
    "        b=int(input(\"enter second number\"))\n",
    "        if a<0 or b<0:\n",
    "            raise NegativeException (\"neg number not allowed\")\n",
    "        c=a/b\n",
    "        print(\"div is \",c)\n",
    "        break\n",
    "    except ValueError:\n",
    "        print(\"please enter value only\")\n",
    "    except ZeroDivisionError:\n",
    "        print(\"please enter non zero dinimonator\")\n",
    "    except NegativeException as e:\n",
    "        print(e)\n"
   ]
  },
  {
   "cell_type": "code",
   "execution_count": 67,
   "id": "40a5bbb8",
   "metadata": {},
   "outputs": [
    {
     "ename": "TypeError",
     "evalue": "'list' object is not an iterator",
     "output_type": "error",
     "traceback": [
      "\u001b[1;31m---------------------------------------------------------------------------\u001b[0m",
      "\u001b[1;31mTypeError\u001b[0m                                 Traceback (most recent call last)",
      "Input \u001b[1;32mIn [67]\u001b[0m, in \u001b[0;36m<cell line: 2>\u001b[1;34m()\u001b[0m\n\u001b[0;32m      1\u001b[0m a\u001b[38;5;241m=\u001b[39m[\u001b[38;5;241m1\u001b[39m,\u001b[38;5;241m2\u001b[39m,\u001b[38;5;241m3\u001b[39m,\u001b[38;5;241m4\u001b[39m,\u001b[38;5;241m5\u001b[39m]\n\u001b[1;32m----> 2\u001b[0m \u001b[38;5;28;43mnext\u001b[39;49m\u001b[43m(\u001b[49m\u001b[43ma\u001b[49m\u001b[43m)\u001b[49m\n",
      "\u001b[1;31mTypeError\u001b[0m: 'list' object is not an iterator"
     ]
    }
   ],
   "source": [
    "a=[1,2,3,4,5]\n",
    "next(a)"
   ]
  },
  {
   "cell_type": "code",
   "execution_count": 68,
   "id": "1a157f65",
   "metadata": {},
   "outputs": [
    {
     "data": {
      "text/plain": [
       "1"
      ]
     },
     "execution_count": 68,
     "metadata": {},
     "output_type": "execute_result"
    }
   ],
   "source": [
    "a=iter(a)\n",
    "next(a)"
   ]
  },
  {
   "cell_type": "code",
   "execution_count": 69,
   "id": "1ae4047b",
   "metadata": {},
   "outputs": [
    {
     "data": {
      "text/plain": [
       "2"
      ]
     },
     "execution_count": 69,
     "metadata": {},
     "output_type": "execute_result"
    }
   ],
   "source": [
    "next(a)"
   ]
  },
  {
   "cell_type": "code",
   "execution_count": 70,
   "id": "c7b017e1",
   "metadata": {},
   "outputs": [
    {
     "data": {
      "text/plain": [
       "3"
      ]
     },
     "execution_count": 70,
     "metadata": {},
     "output_type": "execute_result"
    }
   ],
   "source": [
    "next(a)"
   ]
  },
  {
   "cell_type": "code",
   "execution_count": 71,
   "id": "97bcbac1",
   "metadata": {},
   "outputs": [
    {
     "data": {
      "text/plain": [
       "4"
      ]
     },
     "execution_count": 71,
     "metadata": {},
     "output_type": "execute_result"
    }
   ],
   "source": [
    "next(a)"
   ]
  },
  {
   "cell_type": "code",
   "execution_count": 72,
   "id": "2363ede3",
   "metadata": {},
   "outputs": [
    {
     "data": {
      "text/plain": [
       "5"
      ]
     },
     "execution_count": 72,
     "metadata": {},
     "output_type": "execute_result"
    }
   ],
   "source": [
    "next(a)"
   ]
  },
  {
   "cell_type": "code",
   "execution_count": 73,
   "id": "98e45d1c",
   "metadata": {},
   "outputs": [
    {
     "ename": "StopIteration",
     "evalue": "",
     "output_type": "error",
     "traceback": [
      "\u001b[1;31m---------------------------------------------------------------------------\u001b[0m",
      "\u001b[1;31mStopIteration\u001b[0m                             Traceback (most recent call last)",
      "Input \u001b[1;32mIn [73]\u001b[0m, in \u001b[0;36m<cell line: 1>\u001b[1;34m()\u001b[0m\n\u001b[1;32m----> 1\u001b[0m \u001b[38;5;28;43mnext\u001b[39;49m\u001b[43m(\u001b[49m\u001b[43ma\u001b[49m\u001b[43m)\u001b[49m\n",
      "\u001b[1;31mStopIteration\u001b[0m: "
     ]
    }
   ],
   "source": [
    "next(a)"
   ]
  },
  {
   "cell_type": "code",
   "execution_count": 79,
   "id": "1749c4ef",
   "metadata": {},
   "outputs": [],
   "source": [
    "def sq_f(n):\n",
    "    x=[i**2 for i in range(n)]\n",
    "    return x"
   ]
  },
  {
   "cell_type": "code",
   "execution_count": 80,
   "id": "5d14894c",
   "metadata": {},
   "outputs": [
    {
     "data": {
      "text/plain": [
       "[0, 1, 4, 9, 16]"
      ]
     },
     "execution_count": 80,
     "metadata": {},
     "output_type": "execute_result"
    }
   ],
   "source": [
    "sq_f(5)"
   ]
  },
  {
   "cell_type": "code",
   "execution_count": 81,
   "id": "7fe4770d",
   "metadata": {},
   "outputs": [],
   "source": [
    "def sq_f(n):\n",
    "    x=[i**2 for i in range(n)]\n",
    "    yield x"
   ]
  },
  {
   "cell_type": "code",
   "execution_count": 82,
   "id": "f52e8841",
   "metadata": {},
   "outputs": [
    {
     "data": {
      "text/plain": [
       "<generator object sq_f at 0x000001E60F936DD0>"
      ]
     },
     "execution_count": 82,
     "metadata": {},
     "output_type": "execute_result"
    }
   ],
   "source": [
    "sq_f(2)"
   ]
  },
  {
   "cell_type": "code",
   "execution_count": 83,
   "id": "8a04e936",
   "metadata": {},
   "outputs": [
    {
     "data": {
      "text/plain": [
       "range(0, 5)"
      ]
     },
     "execution_count": 83,
     "metadata": {},
     "output_type": "execute_result"
    }
   ],
   "source": [
    "range(5)"
   ]
  },
  {
   "cell_type": "code",
   "execution_count": 85,
   "id": "16f1417f",
   "metadata": {},
   "outputs": [
    {
     "name": "stdout",
     "output_type": "stream",
     "text": [
      "[0, 1, 4, 9]\n"
     ]
    }
   ],
   "source": [
    "for i in sq_f(4):\n",
    "    print(i)"
   ]
  },
  {
   "cell_type": "code",
   "execution_count": 86,
   "id": "bc0750a6",
   "metadata": {},
   "outputs": [
    {
     "data": {
      "text/plain": [
       "[0, 1, 4, 9]"
      ]
     },
     "execution_count": 86,
     "metadata": {},
     "output_type": "execute_result"
    }
   ],
   "source": [
    "next(sq_f(4))"
   ]
  },
  {
   "cell_type": "code",
   "execution_count": 90,
   "id": "304c0391",
   "metadata": {},
   "outputs": [],
   "source": [
    "def gen_fib(n):\n",
    "    a=1\n",
    "    b=1\n",
    "    l=[]\n",
    "    for i in range(n):\n",
    "        l.append(a)\n",
    "        a,b=b,a+b\n",
    "    return l"
   ]
  },
  {
   "cell_type": "code",
   "execution_count": 91,
   "id": "38f30e43",
   "metadata": {},
   "outputs": [
    {
     "data": {
      "text/plain": [
       "[1, 1, 2, 3, 5]"
      ]
     },
     "execution_count": 91,
     "metadata": {},
     "output_type": "execute_result"
    }
   ],
   "source": [
    "gen_fib(5)"
   ]
  },
  {
   "cell_type": "code",
   "execution_count": 92,
   "id": "fb2d5909",
   "metadata": {},
   "outputs": [],
   "source": [
    "def gen_fib(n):\n",
    "    a=1\n",
    "    b=1\n",
    "\n",
    "    for i in range(n):\n",
    "        yield a\n",
    "        a,b=b,a+b\n",
    "   "
   ]
  },
  {
   "cell_type": "code",
   "execution_count": 93,
   "id": "7d1a0304",
   "metadata": {},
   "outputs": [
    {
     "data": {
      "text/plain": [
       "<generator object gen_fib at 0x000001E60F978270>"
      ]
     },
     "execution_count": 93,
     "metadata": {},
     "output_type": "execute_result"
    }
   ],
   "source": [
    "gen_fib(5)"
   ]
  },
  {
   "cell_type": "code",
   "execution_count": 94,
   "id": "239bcdf7",
   "metadata": {},
   "outputs": [
    {
     "name": "stdout",
     "output_type": "stream",
     "text": [
      "1\n",
      "1\n",
      "2\n",
      "3\n",
      "5\n"
     ]
    }
   ],
   "source": [
    "for i in gen_fib(5):\n",
    "    print(i)"
   ]
  },
  {
   "cell_type": "code",
   "execution_count": 95,
   "id": "72568eff",
   "metadata": {},
   "outputs": [
    {
     "name": "stdout",
     "output_type": "stream",
     "text": [
      "1\n",
      "1\n",
      "2\n",
      "3\n",
      "5\n",
      "8\n",
      "13\n",
      "21\n",
      "34\n",
      "55\n"
     ]
    }
   ],
   "source": [
    "for i in gen_fib(10):\n",
    "    print(i)"
   ]
  },
  {
   "cell_type": "code",
   "execution_count": 102,
   "id": "f79777f5",
   "metadata": {},
   "outputs": [],
   "source": [
    "f=open(\"rama.txt\",'w')"
   ]
  },
  {
   "cell_type": "code",
   "execution_count": 103,
   "id": "5a8d47f7",
   "metadata": {},
   "outputs": [
    {
     "name": "stdout",
     "output_type": "stream",
     "text": [
      " Volume in drive C has no label.\n",
      " Volume Serial Number is 9876-FD79\n",
      "\n",
      " Directory of C:\\Users\\Sai Ram Nagendra\n",
      "\n",
      "07/10/2022  06:53 PM    <DIR>          .\n",
      "07/10/2022  06:53 PM    <DIR>          ..\n",
      "06/29/2022  09:38 PM    <DIR>          .conda\n",
      "06/29/2022  09:37 PM                25 .condarc\n",
      "06/29/2022  09:36 PM    <DIR>          .continuum\n",
      "07/10/2022  09:40 AM    <DIR>          .ipynb_checkpoints\n",
      "06/30/2022  09:50 AM    <DIR>          .ipython\n",
      "07/01/2022  10:58 AM    <DIR>          .jupyter\n",
      "07/01/2022  10:58 AM                47 .python_history\n",
      "06/29/2022  08:31 PM    <DIR>          3D Objects\n",
      "07/10/2022  06:53 PM            57,619 4th_June_python class.ipynb\n",
      "06/29/2022  09:35 PM    <DIR>          Anaconda3\n",
      "06/29/2022  08:31 PM    <DIR>          Contacts\n",
      "06/29/2022  08:51 PM    <DIR>          Desktop\n",
      "06/29/2022  09:34 PM    <DIR>          Documents\n",
      "07/10/2022  09:39 AM    <DIR>          Downloads\n",
      "07/10/2022  09:42 AM            52,100 Exception handling.ipynb\n",
      "06/29/2022  08:31 PM    <DIR>          Favorites\n",
      "07/01/2022  08:12 AM            41,960 for loop practice  (1).ipynb\n",
      "06/29/2022  08:31 PM    <DIR>          Links\n",
      "06/29/2022  08:31 PM    <DIR>          Music\n",
      "06/29/2022  08:35 PM    <DIR>          OneDrive\n",
      "06/29/2022  08:35 PM    <DIR>          Pictures\n",
      "07/10/2022  06:53 PM                 0 rama.txt\n",
      "07/07/2022  10:02 AM           113,562 Revision and task solving (1).ipynb\n",
      "06/29/2022  08:31 PM    <DIR>          Saved Games\n",
      "06/29/2022  08:33 PM    <DIR>          Searches\n",
      "07/01/2022  11:46 AM             4,272 Untitled.ipynb\n",
      "07/01/2022  11:49 AM               589 Untitled1.ipynb\n",
      "07/01/2022  12:08 PM               907 Untitled2.ipynb\n",
      "06/29/2022  08:31 PM    <DIR>          Videos\n",
      "              10 File(s)        271,081 bytes\n",
      "              21 Dir(s)  129,736,601,600 bytes free\n"
     ]
    }
   ],
   "source": [
    "ls"
   ]
  },
  {
   "cell_type": "code",
   "execution_count": 104,
   "id": "fe81c740",
   "metadata": {},
   "outputs": [
    {
     "data": {
      "text/plain": [
       "10"
      ]
     },
     "execution_count": 104,
     "metadata": {},
     "output_type": "execute_result"
    }
   ],
   "source": [
    "f.write(\"hello rama\")"
   ]
  },
  {
   "cell_type": "code",
   "execution_count": 105,
   "id": "456766cd",
   "metadata": {},
   "outputs": [
    {
     "name": "stdout",
     "output_type": "stream",
     "text": [
      " Volume in drive C has no label.\n",
      " Volume Serial Number is 9876-FD79\n",
      "\n",
      " Directory of C:\\Users\\Sai Ram Nagendra\n",
      "\n",
      "07/10/2022  06:57 PM    <DIR>          .\n",
      "07/10/2022  06:57 PM    <DIR>          ..\n",
      "06/29/2022  09:38 PM    <DIR>          .conda\n",
      "06/29/2022  09:37 PM                25 .condarc\n",
      "06/29/2022  09:36 PM    <DIR>          .continuum\n",
      "07/10/2022  09:40 AM    <DIR>          .ipynb_checkpoints\n",
      "06/30/2022  09:50 AM    <DIR>          .ipython\n",
      "07/01/2022  10:58 AM    <DIR>          .jupyter\n",
      "07/01/2022  10:58 AM                47 .python_history\n",
      "06/29/2022  08:31 PM    <DIR>          3D Objects\n",
      "07/10/2022  06:57 PM            57,657 4th_June_python class.ipynb\n",
      "06/29/2022  09:35 PM    <DIR>          Anaconda3\n",
      "06/29/2022  08:31 PM    <DIR>          Contacts\n",
      "06/29/2022  08:51 PM    <DIR>          Desktop\n",
      "06/29/2022  09:34 PM    <DIR>          Documents\n",
      "07/10/2022  09:39 AM    <DIR>          Downloads\n",
      "07/10/2022  09:42 AM            52,100 Exception handling.ipynb\n",
      "06/29/2022  08:31 PM    <DIR>          Favorites\n",
      "07/01/2022  08:12 AM            41,960 for loop practice  (1).ipynb\n",
      "06/29/2022  08:31 PM    <DIR>          Links\n",
      "06/29/2022  08:31 PM    <DIR>          Music\n",
      "06/29/2022  08:35 PM    <DIR>          OneDrive\n",
      "06/29/2022  08:35 PM    <DIR>          Pictures\n",
      "07/10/2022  06:53 PM                 0 rama.txt\n",
      "07/07/2022  10:02 AM           113,562 Revision and task solving (1).ipynb\n",
      "06/29/2022  08:31 PM    <DIR>          Saved Games\n",
      "06/29/2022  08:33 PM    <DIR>          Searches\n",
      "07/01/2022  11:46 AM             4,272 Untitled.ipynb\n",
      "07/01/2022  11:49 AM               589 Untitled1.ipynb\n",
      "07/01/2022  12:08 PM               907 Untitled2.ipynb\n",
      "06/29/2022  08:31 PM    <DIR>          Videos\n",
      "              10 File(s)        271,119 bytes\n",
      "              21 Dir(s)  129,736,978,432 bytes free\n"
     ]
    }
   ],
   "source": [
    "ls"
   ]
  },
  {
   "cell_type": "code",
   "execution_count": 106,
   "id": "f97a7d2c",
   "metadata": {},
   "outputs": [],
   "source": [
    "f.close()"
   ]
  },
  {
   "cell_type": "code",
   "execution_count": 107,
   "id": "00a62808",
   "metadata": {},
   "outputs": [
    {
     "name": "stdout",
     "output_type": "stream",
     "text": [
      " Volume in drive C has no label.\n",
      " Volume Serial Number is 9876-FD79\n",
      "\n",
      " Directory of C:\\Users\\Sai Ram Nagendra\n",
      "\n",
      "07/10/2022  06:59 PM    <DIR>          .\n",
      "07/10/2022  06:59 PM    <DIR>          ..\n",
      "06/29/2022  09:38 PM    <DIR>          .conda\n",
      "06/29/2022  09:37 PM                25 .condarc\n",
      "06/29/2022  09:36 PM    <DIR>          .continuum\n",
      "07/10/2022  09:40 AM    <DIR>          .ipynb_checkpoints\n",
      "06/30/2022  09:50 AM    <DIR>          .ipython\n",
      "07/01/2022  10:58 AM    <DIR>          .jupyter\n",
      "07/01/2022  10:58 AM                47 .python_history\n",
      "06/29/2022  08:31 PM    <DIR>          3D Objects\n",
      "07/10/2022  06:59 PM            60,418 4th_June_python class.ipynb\n",
      "06/29/2022  09:35 PM    <DIR>          Anaconda3\n",
      "06/29/2022  08:31 PM    <DIR>          Contacts\n",
      "06/29/2022  08:51 PM    <DIR>          Desktop\n",
      "06/29/2022  09:34 PM    <DIR>          Documents\n",
      "07/10/2022  09:39 AM    <DIR>          Downloads\n",
      "07/10/2022  09:42 AM            52,100 Exception handling.ipynb\n",
      "06/29/2022  08:31 PM    <DIR>          Favorites\n",
      "07/01/2022  08:12 AM            41,960 for loop practice  (1).ipynb\n",
      "06/29/2022  08:31 PM    <DIR>          Links\n",
      "06/29/2022  08:31 PM    <DIR>          Music\n",
      "06/29/2022  08:35 PM    <DIR>          OneDrive\n",
      "06/29/2022  08:35 PM    <DIR>          Pictures\n",
      "07/10/2022  06:59 PM                10 rama.txt\n",
      "07/07/2022  10:02 AM           113,562 Revision and task solving (1).ipynb\n",
      "06/29/2022  08:31 PM    <DIR>          Saved Games\n",
      "06/29/2022  08:33 PM    <DIR>          Searches\n",
      "07/01/2022  11:46 AM             4,272 Untitled.ipynb\n",
      "07/01/2022  11:49 AM               589 Untitled1.ipynb\n",
      "07/01/2022  12:08 PM               907 Untitled2.ipynb\n",
      "06/29/2022  08:31 PM    <DIR>          Videos\n",
      "              10 File(s)        273,890 bytes\n",
      "              21 Dir(s)  129,736,048,640 bytes free\n"
     ]
    }
   ],
   "source": [
    "ls"
   ]
  },
  {
   "cell_type": "code",
   "execution_count": 108,
   "id": "7babdccb",
   "metadata": {},
   "outputs": [],
   "source": [
    "l=[1,2,3,4,5]"
   ]
  },
  {
   "cell_type": "code",
   "execution_count": 109,
   "id": "d6599bd7",
   "metadata": {},
   "outputs": [
    {
     "data": {
      "text/plain": [
       "[1, 2, 3, 4, 5]"
      ]
     },
     "execution_count": 109,
     "metadata": {},
     "output_type": "execute_result"
    }
   ],
   "source": [
    "l"
   ]
  },
  {
   "cell_type": "code",
   "execution_count": 113,
   "id": "07b377fa",
   "metadata": {},
   "outputs": [],
   "source": [
    "f=open(\"ram.txt\",'w')"
   ]
  },
  {
   "cell_type": "code",
   "execution_count": 114,
   "id": "b7f4ea24",
   "metadata": {},
   "outputs": [
    {
     "data": {
      "text/plain": [
       "15"
      ]
     },
     "execution_count": 114,
     "metadata": {},
     "output_type": "execute_result"
    }
   ],
   "source": [
    "f.write(str(l))"
   ]
  },
  {
   "cell_type": "code",
   "execution_count": 115,
   "id": "1a1a8a78",
   "metadata": {},
   "outputs": [],
   "source": [
    "f.close()"
   ]
  },
  {
   "cell_type": "code",
   "execution_count": 116,
   "id": "ce95ef90",
   "metadata": {},
   "outputs": [
    {
     "name": "stdout",
     "output_type": "stream",
     "text": [
      "Writing test.txt\n"
     ]
    }
   ],
   "source": [
    "%%writefile test.txt\n",
    "hello good morning"
   ]
  },
  {
   "cell_type": "code",
   "execution_count": 117,
   "id": "245b27e1",
   "metadata": {},
   "outputs": [],
   "source": [
    "f=open('test.txt')"
   ]
  },
  {
   "cell_type": "code",
   "execution_count": 118,
   "id": "d9358dea",
   "metadata": {},
   "outputs": [
    {
     "data": {
      "text/plain": [
       "'hello good morning\\n'"
      ]
     },
     "execution_count": 118,
     "metadata": {},
     "output_type": "execute_result"
    }
   ],
   "source": [
    "f.read()"
   ]
  },
  {
   "cell_type": "code",
   "execution_count": 119,
   "id": "ae1b9340",
   "metadata": {},
   "outputs": [
    {
     "data": {
      "text/plain": [
       "''"
      ]
     },
     "execution_count": 119,
     "metadata": {},
     "output_type": "execute_result"
    }
   ],
   "source": [
    "f.read()"
   ]
  },
  {
   "cell_type": "code",
   "execution_count": 120,
   "id": "212b489f",
   "metadata": {},
   "outputs": [
    {
     "data": {
      "text/plain": [
       "0"
      ]
     },
     "execution_count": 120,
     "metadata": {},
     "output_type": "execute_result"
    }
   ],
   "source": [
    "f.seek(0)"
   ]
  },
  {
   "cell_type": "code",
   "execution_count": 121,
   "id": "4f1e4138",
   "metadata": {},
   "outputs": [
    {
     "data": {
      "text/plain": [
       "'hello good morning\\n'"
      ]
     },
     "execution_count": 121,
     "metadata": {},
     "output_type": "execute_result"
    }
   ],
   "source": [
    "f.read()"
   ]
  },
  {
   "cell_type": "code",
   "execution_count": 122,
   "id": "8a87c196",
   "metadata": {},
   "outputs": [
    {
     "data": {
      "text/plain": [
       "''"
      ]
     },
     "execution_count": 122,
     "metadata": {},
     "output_type": "execute_result"
    }
   ],
   "source": [
    "f.read()"
   ]
  },
  {
   "cell_type": "code",
   "execution_count": 123,
   "id": "4c02c408",
   "metadata": {},
   "outputs": [
    {
     "data": {
      "text/plain": [
       "0"
      ]
     },
     "execution_count": 123,
     "metadata": {},
     "output_type": "execute_result"
    }
   ],
   "source": [
    "f.seek(0)"
   ]
  },
  {
   "cell_type": "code",
   "execution_count": 124,
   "id": "fa015e90",
   "metadata": {},
   "outputs": [
    {
     "data": {
      "text/plain": [
       "'hello good morning\\n'"
      ]
     },
     "execution_count": 124,
     "metadata": {},
     "output_type": "execute_result"
    }
   ],
   "source": [
    "f.read()"
   ]
  },
  {
   "cell_type": "code",
   "execution_count": 125,
   "id": "d5e1ecf2",
   "metadata": {},
   "outputs": [
    {
     "data": {
      "text/plain": [
       "10"
      ]
     },
     "execution_count": 125,
     "metadata": {},
     "output_type": "execute_result"
    }
   ],
   "source": [
    "f.seek(10)"
   ]
  },
  {
   "cell_type": "code",
   "execution_count": 126,
   "id": "a85ed8ab",
   "metadata": {},
   "outputs": [
    {
     "data": {
      "text/plain": [
       "' morning\\n'"
      ]
     },
     "execution_count": 126,
     "metadata": {},
     "output_type": "execute_result"
    }
   ],
   "source": [
    "f.read()"
   ]
  },
  {
   "cell_type": "code",
   "execution_count": 127,
   "id": "0254f82b",
   "metadata": {},
   "outputs": [
    {
     "data": {
      "text/plain": [
       "20"
      ]
     },
     "execution_count": 127,
     "metadata": {},
     "output_type": "execute_result"
    }
   ],
   "source": [
    "f.tell()"
   ]
  },
  {
   "cell_type": "code",
   "execution_count": 128,
   "id": "9eca8d40",
   "metadata": {},
   "outputs": [
    {
     "data": {
      "text/plain": [
       "''"
      ]
     },
     "execution_count": 128,
     "metadata": {},
     "output_type": "execute_result"
    }
   ],
   "source": [
    "f.read()"
   ]
  },
  {
   "cell_type": "code",
   "execution_count": 129,
   "id": "f255fcc5",
   "metadata": {},
   "outputs": [
    {
     "data": {
      "text/plain": [
       "1"
      ]
     },
     "execution_count": 129,
     "metadata": {},
     "output_type": "execute_result"
    }
   ],
   "source": [
    "f.seek(1)"
   ]
  },
  {
   "cell_type": "code",
   "execution_count": 130,
   "id": "36fd3f6d",
   "metadata": {},
   "outputs": [
    {
     "data": {
      "text/plain": [
       "1"
      ]
     },
     "execution_count": 130,
     "metadata": {},
     "output_type": "execute_result"
    }
   ],
   "source": [
    "f.tell()"
   ]
  },
  {
   "cell_type": "code",
   "execution_count": 165,
   "id": "27aa0977",
   "metadata": {},
   "outputs": [
    {
     "ename": "ValueError",
     "evalue": "I/O operation on closed file.",
     "output_type": "error",
     "traceback": [
      "\u001b[1;31m---------------------------------------------------------------------------\u001b[0m",
      "\u001b[1;31mValueError\u001b[0m                                Traceback (most recent call last)",
      "Input \u001b[1;32mIn [165]\u001b[0m, in \u001b[0;36m<cell line: 1>\u001b[1;34m()\u001b[0m\n\u001b[1;32m----> 1\u001b[0m \u001b[43mf\u001b[49m\u001b[38;5;241;43m.\u001b[39;49m\u001b[43mread\u001b[49m\u001b[43m(\u001b[49m\u001b[38;5;241;43m10\u001b[39;49m\u001b[43m)\u001b[49m\n",
      "\u001b[1;31mValueError\u001b[0m: I/O operation on closed file."
     ]
    }
   ],
   "source": [
    "f.read(10)"
   ]
  },
  {
   "cell_type": "code",
   "execution_count": 171,
   "id": "ece33093",
   "metadata": {},
   "outputs": [],
   "source": [
    "f=open(\"test.txt\",'r')\n",
    "f.read()\n",
    "f.close()"
   ]
  },
  {
   "cell_type": "code",
   "execution_count": 179,
   "id": "1bf6af00",
   "metadata": {},
   "outputs": [],
   "source": [
    "f=open(\"test.txt\",'a')\n",
    "f.write(\"\\nhhh\")\n",
    "f.close()"
   ]
  },
  {
   "cell_type": "code",
   "execution_count": 180,
   "id": "a55d634e",
   "metadata": {},
   "outputs": [
    {
     "data": {
      "text/plain": [
       "'hello good morning\\nhhhhhhhhhhhh\\nhhh'"
      ]
     },
     "execution_count": 180,
     "metadata": {},
     "output_type": "execute_result"
    }
   ],
   "source": [
    "f=open(\"test.txt\",'r')\n",
    "f.read()"
   ]
  },
  {
   "cell_type": "code",
   "execution_count": 181,
   "id": "7bae3c51",
   "metadata": {},
   "outputs": [
    {
     "data": {
      "text/plain": [
       "'test.txt'"
      ]
     },
     "execution_count": 181,
     "metadata": {},
     "output_type": "execute_result"
    }
   ],
   "source": [
    "f.name"
   ]
  },
  {
   "cell_type": "code",
   "execution_count": 182,
   "id": "a83dc953",
   "metadata": {},
   "outputs": [
    {
     "data": {
      "text/plain": [
       "<function TextIOWrapper.readlines(hint=-1, /)>"
      ]
     },
     "execution_count": 182,
     "metadata": {},
     "output_type": "execute_result"
    }
   ],
   "source": [
    "f.readlines"
   ]
  },
  {
   "cell_type": "code",
   "execution_count": 184,
   "id": "82edfb1e",
   "metadata": {},
   "outputs": [],
   "source": [
    "l=[1,2,3,4]\n",
    "l1=[]\n",
    "for i in l:\n",
    "    l1.append(i**2)"
   ]
  },
  {
   "cell_type": "code",
   "execution_count": 185,
   "id": "5cc6cb08",
   "metadata": {},
   "outputs": [
    {
     "data": {
      "text/plain": [
       "[1, 4, 9, 16]"
      ]
     },
     "execution_count": 185,
     "metadata": {},
     "output_type": "execute_result"
    }
   ],
   "source": [
    "l1"
   ]
  },
  {
   "cell_type": "code",
   "execution_count": 186,
   "id": "14f23414",
   "metadata": {},
   "outputs": [],
   "source": [
    "def sq(n):\n",
    "    return n**2"
   ]
  },
  {
   "cell_type": "code",
   "execution_count": 187,
   "id": "8e3043ae",
   "metadata": {},
   "outputs": [
    {
     "data": {
      "text/plain": [
       "36"
      ]
     },
     "execution_count": 187,
     "metadata": {},
     "output_type": "execute_result"
    }
   ],
   "source": [
    "sq(6)"
   ]
  },
  {
   "cell_type": "code",
   "execution_count": 189,
   "id": "a9c2ed4a",
   "metadata": {},
   "outputs": [
    {
     "data": {
      "text/plain": [
       "<map at 0x1e60fc1bbe0>"
      ]
     },
     "execution_count": 189,
     "metadata": {},
     "output_type": "execute_result"
    }
   ],
   "source": [
    "map(sq,l)"
   ]
  },
  {
   "cell_type": "code",
   "execution_count": 191,
   "id": "622af61b",
   "metadata": {},
   "outputs": [
    {
     "data": {
      "text/plain": [
       "[1, 4, 9, 16]"
      ]
     },
     "execution_count": 191,
     "metadata": {},
     "output_type": "execute_result"
    }
   ],
   "source": [
    "list(map(sq,l))"
   ]
  },
  {
   "cell_type": "code",
   "execution_count": 192,
   "id": "edf9f21f",
   "metadata": {},
   "outputs": [
    {
     "data": {
      "text/plain": [
       "<map at 0x1e60fc2a220>"
      ]
     },
     "execution_count": 192,
     "metadata": {},
     "output_type": "execute_result"
    }
   ],
   "source": [
    "map(lambda x:x**2,l)"
   ]
  },
  {
   "cell_type": "code",
   "execution_count": 193,
   "id": "630bba07",
   "metadata": {},
   "outputs": [
    {
     "data": {
      "text/plain": [
       "[1, 4, 9, 16]"
      ]
     },
     "execution_count": 193,
     "metadata": {},
     "output_type": "execute_result"
    }
   ],
   "source": [
    "list(map(lambda x:x**2,l))"
   ]
  },
  {
   "cell_type": "code",
   "execution_count": 194,
   "id": "c1e3db9e",
   "metadata": {},
   "outputs": [
    {
     "data": {
      "text/plain": [
       "['1', '2', '3', '4']"
      ]
     },
     "execution_count": 194,
     "metadata": {},
     "output_type": "execute_result"
    }
   ],
   "source": [
    "list(map(lambda x:str(x),l))\n"
   ]
  },
  {
   "cell_type": "code",
   "execution_count": 196,
   "id": "12e75f79",
   "metadata": {},
   "outputs": [],
   "source": [
    "def str_c(n):\n",
    "    return str(n)"
   ]
  },
  {
   "cell_type": "code",
   "execution_count": 198,
   "id": "f99f567c",
   "metadata": {},
   "outputs": [
    {
     "data": {
      "text/plain": [
       "['1', '2', '3', '4']"
      ]
     },
     "execution_count": 198,
     "metadata": {},
     "output_type": "execute_result"
    }
   ],
   "source": [
    "list(map(str_c,l))"
   ]
  },
  {
   "cell_type": "code",
   "execution_count": 199,
   "id": "a775ef71",
   "metadata": {},
   "outputs": [
    {
     "data": {
      "text/plain": [
       "['1', '2', '3', '4']"
      ]
     },
     "execution_count": 199,
     "metadata": {},
     "output_type": "execute_result"
    }
   ],
   "source": [
    "list(map(str,l))"
   ]
  },
  {
   "cell_type": "code",
   "execution_count": 201,
   "id": "d2e81f78",
   "metadata": {},
   "outputs": [],
   "source": [
    "from functools import reduce"
   ]
  },
  {
   "cell_type": "code",
   "execution_count": 202,
   "id": "6cb95072",
   "metadata": {},
   "outputs": [
    {
     "data": {
      "text/plain": [
       "15"
      ]
     },
     "execution_count": 202,
     "metadata": {},
     "output_type": "execute_result"
    }
   ],
   "source": [
    "l=[1,2,3,4,5]\n",
    "sum(l)"
   ]
  },
  {
   "cell_type": "code",
   "execution_count": 203,
   "id": "2672377a",
   "metadata": {},
   "outputs": [
    {
     "data": {
      "text/plain": [
       "15"
      ]
     },
     "execution_count": 203,
     "metadata": {},
     "output_type": "execute_result"
    }
   ],
   "source": [
    "reduce(lambda a,b:a+b,l)"
   ]
  },
  {
   "cell_type": "code",
   "execution_count": 204,
   "id": "b003335b",
   "metadata": {},
   "outputs": [
    {
     "data": {
      "text/plain": [
       "<filter at 0x1e610753250>"
      ]
     },
     "execution_count": 204,
     "metadata": {},
     "output_type": "execute_result"
    }
   ],
   "source": [
    "l=[1,2,3,4,5]\n",
    "filter(lambda x:x%2==0,l)"
   ]
  },
  {
   "cell_type": "code",
   "execution_count": 205,
   "id": "2d013189",
   "metadata": {},
   "outputs": [
    {
     "data": {
      "text/plain": [
       "[2, 4]"
      ]
     },
     "execution_count": 205,
     "metadata": {},
     "output_type": "execute_result"
    }
   ],
   "source": [
    "l=[1,2,3,4,5]\n",
    "list(filter(lambda x:x%2==0,l))"
   ]
  },
  {
   "cell_type": "code",
   "execution_count": 209,
   "id": "b4bb8e99",
   "metadata": {},
   "outputs": [],
   "source": [
    "def ev(n):\n",
    "    if n%2==0:\n",
    "        return True"
   ]
  },
  {
   "cell_type": "code",
   "execution_count": 210,
   "id": "d6b11d20",
   "metadata": {},
   "outputs": [
    {
     "data": {
      "text/plain": [
       "[2, 4]"
      ]
     },
     "execution_count": 210,
     "metadata": {},
     "output_type": "execute_result"
    }
   ],
   "source": [
    "list(filter(ev,l))"
   ]
  },
  {
   "cell_type": "code",
   "execution_count": null,
   "id": "3c57a296",
   "metadata": {},
   "outputs": [],
   "source": []
  }
 ],
 "metadata": {
  "kernelspec": {
   "display_name": "Python 3 (ipykernel)",
   "language": "python",
   "name": "python3"
  },
  "language_info": {
   "codemirror_mode": {
    "name": "ipython",
    "version": 3
   },
   "file_extension": ".py",
   "mimetype": "text/x-python",
   "name": "python",
   "nbconvert_exporter": "python",
   "pygments_lexer": "ipython3",
   "version": "3.9.12"
  }
 },
 "nbformat": 4,
 "nbformat_minor": 5
}
