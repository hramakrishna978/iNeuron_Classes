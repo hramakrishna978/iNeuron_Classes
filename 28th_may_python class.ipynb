{
 "cells": [
  {
   "cell_type": "code",
   "execution_count": 1,
   "id": "7938f942",
   "metadata": {},
   "outputs": [],
   "source": [
    "l=[1,2,3,4,5,'ram','krish',1.2]"
   ]
  },
  {
   "cell_type": "code",
   "execution_count": 2,
   "id": "d3e9ad0d",
   "metadata": {},
   "outputs": [
    {
     "data": {
      "text/plain": [
       "[1, 2, 3, 4, 5, 'ram', 'krish', 1.2]"
      ]
     },
     "execution_count": 2,
     "metadata": {},
     "output_type": "execute_result"
    }
   ],
   "source": [
    "l"
   ]
  },
  {
   "cell_type": "code",
   "execution_count": 3,
   "id": "b289106a",
   "metadata": {},
   "outputs": [
    {
     "name": "stdout",
     "output_type": "stream",
     "text": [
      "1\n",
      "2\n",
      "3\n",
      "4\n",
      "5\n",
      "ram\n",
      "krish\n",
      "1.2\n",
      "if for loop is going to complete itself then it will execute else\n"
     ]
    }
   ],
   "source": [
    "for i in l:\n",
    "    print(i)\n",
    "else:\n",
    "    print(\"if for loop is going to complete itself then it will execute else\")"
   ]
  },
  {
   "cell_type": "code",
   "execution_count": 4,
   "id": "de597d9b",
   "metadata": {},
   "outputs": [
    {
     "data": {
      "text/plain": [
       "[1, 2, 3, 4, 5, 'ram', 'krish', 1.2]"
      ]
     },
     "execution_count": 4,
     "metadata": {},
     "output_type": "execute_result"
    }
   ],
   "source": [
    "l"
   ]
  },
  {
   "cell_type": "code",
   "execution_count": 6,
   "id": "fc553e43",
   "metadata": {},
   "outputs": [
    {
     "name": "stdout",
     "output_type": "stream",
     "text": [
      "1\n",
      "2\n",
      "3\n"
     ]
    }
   ],
   "source": [
    "for i in l:\n",
    "    if i == 4:\n",
    "        break\n",
    "    print(i)\n",
    "else:\n",
    "    print(\"this will excxute only if, for is going to complete it self\")"
   ]
  },
  {
   "cell_type": "code",
   "execution_count": 7,
   "id": "7aa1031f",
   "metadata": {},
   "outputs": [
    {
     "name": "stdout",
     "output_type": "stream",
     "text": [
      "r\n",
      "a\n",
      "m\n",
      "a\n",
      "k\n",
      "r\n",
      "i\n",
      "s\n",
      "h\n"
     ]
    }
   ],
   "source": [
    "s=\"ramakrishna\"\n",
    "for i in s:\n",
    "    if i == \"n\":\n",
    "        break\n",
    "    print(i)\n",
    "else:\n",
    "    print(\"print string \",s)"
   ]
  },
  {
   "cell_type": "code",
   "execution_count": 8,
   "id": "9b6049de",
   "metadata": {},
   "outputs": [
    {
     "name": "stdout",
     "output_type": "stream",
     "text": [
      "r\n",
      "a\n",
      "m\n",
      "a\n",
      "k\n",
      "r\n",
      "i\n",
      "s\n",
      "h\n",
      "n\n",
      "a\n",
      "print string  ramakrishna\n"
     ]
    }
   ],
   "source": [
    "s=\"ramakrishna\"\n",
    "for i in s:\n",
    "    if i == \"z\":\n",
    "        break\n",
    "    print(i)\n",
    "else:\n",
    "    print(\"print string \",s)"
   ]
  },
  {
   "cell_type": "code",
   "execution_count": 10,
   "id": "16ad4e4a",
   "metadata": {},
   "outputs": [
    {
     "name": "stdout",
     "output_type": "stream",
     "text": [
      "1\n",
      "2\n",
      "3\n",
      "4\n",
      "5\n",
      "6\n",
      "ram\n",
      "krish\n",
      "1.2\n"
     ]
    }
   ],
   "source": [
    "t=(1,2,3,4,5,6,\"ram\",\"krish\",1.2)\n",
    "for i in t:\n",
    "    print(i)"
   ]
  },
  {
   "cell_type": "code",
   "execution_count": 13,
   "id": "89319eb3",
   "metadata": {},
   "outputs": [
    {
     "data": {
      "text/plain": [
       "{1, 1.2, 2, 3, 4, 5, 'krish', 'ram'}"
      ]
     },
     "execution_count": 13,
     "metadata": {},
     "output_type": "execute_result"
    }
   ],
   "source": [
    "b={1,2,3,4,5,\"ram\",\"krish\",1.2}\n",
    "b"
   ]
  },
  {
   "cell_type": "code",
   "execution_count": 14,
   "id": "35ab4330",
   "metadata": {},
   "outputs": [
    {
     "data": {
      "text/plain": [
       "set"
      ]
     },
     "execution_count": 14,
     "metadata": {},
     "output_type": "execute_result"
    }
   ],
   "source": [
    "type(b)"
   ]
  },
  {
   "cell_type": "code",
   "execution_count": 15,
   "id": "3dd39872",
   "metadata": {},
   "outputs": [
    {
     "name": "stdout",
     "output_type": "stream",
     "text": [
      "1\n",
      "2\n",
      "3\n",
      "4\n",
      "5\n",
      "1.2\n",
      "krish\n",
      "ram\n"
     ]
    }
   ],
   "source": [
    "for i in b:\n",
    "    print(i)"
   ]
  },
  {
   "cell_type": "code",
   "execution_count": 24,
   "id": "25f72abd",
   "metadata": {},
   "outputs": [
    {
     "name": "stdout",
     "output_type": "stream",
     "text": [
      "key1\n",
      "contact\n",
      "poition\n"
     ]
    }
   ],
   "source": [
    "d={'key1':\"rk\",'contact':'ram@123','poition':'ase'}\n",
    "for i in d:\n",
    "    print(i)"
   ]
  },
  {
   "cell_type": "code",
   "execution_count": 21,
   "id": "08452d81",
   "metadata": {},
   "outputs": [
    {
     "data": {
      "text/plain": [
       "'rk'"
      ]
     },
     "execution_count": 21,
     "metadata": {},
     "output_type": "execute_result"
    }
   ],
   "source": [
    "d['key1']"
   ]
  },
  {
   "cell_type": "code",
   "execution_count": 25,
   "id": "f0e2c932",
   "metadata": {},
   "outputs": [
    {
     "name": "stdout",
     "output_type": "stream",
     "text": [
      "rk\n",
      "ram@123\n",
      "ase\n"
     ]
    }
   ],
   "source": [
    "d={'key1':\"rk\",'contact':'ram@123','poition':'ase'}\n",
    "for i in d:\n",
    "    print(d[i])"
   ]
  },
  {
   "cell_type": "code",
   "execution_count": 29,
   "id": "4514f4d6",
   "metadata": {},
   "outputs": [
    {
     "name": "stdout",
     "output_type": "stream",
     "text": [
      "key1 : rk\n",
      "contact : ram@123\n",
      "poition : ase\n"
     ]
    }
   ],
   "source": [
    "d={'key1':\"rk\",'contact':'ram@123','poition':'ase'}\n",
    "for i in d:\n",
    "    print(i,\":\",d[i])"
   ]
  },
  {
   "cell_type": "code",
   "execution_count": 30,
   "id": "1e428153",
   "metadata": {},
   "outputs": [
    {
     "data": {
      "text/plain": [
       "range(0, 9)"
      ]
     },
     "execution_count": 30,
     "metadata": {},
     "output_type": "execute_result"
    }
   ],
   "source": [
    "range(9)"
   ]
  },
  {
   "cell_type": "code",
   "execution_count": 31,
   "id": "d9e26393",
   "metadata": {},
   "outputs": [
    {
     "data": {
      "text/plain": [
       "[0, 1, 2, 3, 4, 5, 6, 7, 8]"
      ]
     },
     "execution_count": 31,
     "metadata": {},
     "output_type": "execute_result"
    }
   ],
   "source": [
    "list(range(9))"
   ]
  },
  {
   "cell_type": "code",
   "execution_count": 32,
   "id": "aa5005df",
   "metadata": {},
   "outputs": [
    {
     "name": "stdout",
     "output_type": "stream",
     "text": [
      "0\n",
      "1\n",
      "2\n",
      "3\n",
      "4\n",
      "5\n",
      "6\n",
      "7\n",
      "8\n"
     ]
    }
   ],
   "source": [
    "for i in range(9):\n",
    "    print(i) "
   ]
  },
  {
   "cell_type": "code",
   "execution_count": 33,
   "id": "b25438d1",
   "metadata": {},
   "outputs": [
    {
     "data": {
      "text/plain": [
       "[0, 2, 4, 6, 8]"
      ]
     },
     "execution_count": 33,
     "metadata": {},
     "output_type": "execute_result"
    }
   ],
   "source": [
    "list(range(0,9,2))"
   ]
  },
  {
   "cell_type": "code",
   "execution_count": 36,
   "id": "8fd47224",
   "metadata": {},
   "outputs": [
    {
     "data": {
      "text/plain": [
       "[]"
      ]
     },
     "execution_count": 36,
     "metadata": {},
     "output_type": "execute_result"
    }
   ],
   "source": [
    "list(range(0,9,-1))"
   ]
  },
  {
   "cell_type": "code",
   "execution_count": 37,
   "id": "81566a4f",
   "metadata": {},
   "outputs": [
    {
     "data": {
      "text/plain": [
       "[9, 8, 7, 6, 5, 4, 3, 2, 1]"
      ]
     },
     "execution_count": 37,
     "metadata": {},
     "output_type": "execute_result"
    }
   ],
   "source": [
    "list(range(9,0,-1))"
   ]
  },
  {
   "cell_type": "code",
   "execution_count": 39,
   "id": "7d3b6a1d",
   "metadata": {},
   "outputs": [
    {
     "name": "stdout",
     "output_type": "stream",
     "text": [
      "ram   \n",
      "\n",
      "ram   ram   \n",
      "\n",
      "ram   ram   ram   \n",
      "\n",
      "ram   ram   ram   ram   \n",
      "\n"
     ]
    }
   ],
   "source": [
    "n = 4\n",
    "for i in range(4):\n",
    "    for j in range(0,i+1):\n",
    "        print(\"ram\",end =\"   \")\n",
    "    print(\"\\n\")"
   ]
  },
  {
   "cell_type": "code",
   "execution_count": 59,
   "id": "1f0d9ca6",
   "metadata": {},
   "outputs": [
    {
     "name": "stdout",
     "output_type": "stream",
     "text": [
      "    ram \n",
      "\n",
      "    ram     ram \n",
      "\n",
      "    ram     ram     ram \n",
      "\n",
      "    ram     ram     ram     ram \n",
      "\n"
     ]
    }
   ],
   "source": [
    "n=4\n",
    "for i in range(4):\n",
    "    for j in range(0,i+1):\n",
    "        print(\" \"*len(\"ram\"),\"ram\",end=\" \")\n",
    "    \n",
    "    print(\"\\n\")"
   ]
  },
  {
   "cell_type": "code",
   "execution_count": 92,
   "id": "fd446646",
   "metadata": {},
   "outputs": [
    {
     "name": "stdout",
     "output_type": "stream",
     "text": [
      "* \n",
      "* * \n",
      "* * * \n",
      "* * * * \n"
     ]
    }
   ],
   "source": [
    "n=4\n",
    "for i in range(0,n):\n",
    "    for j in range(0,n-i-1):\n",
    "        print(end=\"\")\n",
    "    for j in range(0,i+1):\n",
    "        print(\"*\",end=\" \")\n",
    "    print()"
   ]
  },
  {
   "cell_type": "code",
   "execution_count": 98,
   "id": "f4a37bb2",
   "metadata": {},
   "outputs": [
    {
     "name": "stdout",
     "output_type": "stream",
     "text": [
      "\n",
      "* * * * \n",
      "\n",
      "* * * \n",
      "\n",
      "\n",
      "* * \n",
      "\n",
      "\n",
      "\n",
      "* \n"
     ]
    }
   ],
   "source": [
    "n=4\n",
    "for i in range(0,n):\n",
    "    for j in range(0,i+1):\n",
    "        print(\"\")\n",
    "    for k in range(0,n-i):\n",
    "        print(\"*\",end=\" \")\n",
    "print()"
   ]
  },
  {
   "cell_type": "code",
   "execution_count": 105,
   "id": "32320007",
   "metadata": {},
   "outputs": [
    {
     "data": {
      "text/plain": [
       "[4, 3, 2, 1]"
      ]
     },
     "execution_count": 105,
     "metadata": {},
     "output_type": "execute_result"
    }
   ],
   "source": [
    "n=4\n",
    "list(range(n,0,-1))\n",
    "    "
   ]
  },
  {
   "cell_type": "code",
   "execution_count": 118,
   "id": "71c07071",
   "metadata": {},
   "outputs": [
    {
     "name": "stdout",
     "output_type": "stream",
     "text": [
      "+ + + + \n",
      "+ + + \n",
      "+ + \n",
      "+ \n"
     ]
    }
   ],
   "source": [
    "n=4\n",
    "for i in range(n,0,-1):\n",
    "    for j in range(0,n-i):\n",
    "        print(end=\"\")\n",
    "    for j in range(0,i):\n",
    "        print(\"+\",end=\" \")\n",
    "    print()"
   ]
  },
  {
   "cell_type": "code",
   "execution_count": 119,
   "id": "67fa9b2d",
   "metadata": {},
   "outputs": [],
   "source": [
    "t=(3,23,45,67,2,4,5,6)"
   ]
  },
  {
   "cell_type": "code",
   "execution_count": 123,
   "id": "75d2b06e",
   "metadata": {},
   "outputs": [
    {
     "name": "stdout",
     "output_type": "stream",
     "text": [
      "0 3\n",
      "1 23\n",
      "2 45\n",
      "3 67\n",
      "4 2\n",
      "5 4\n",
      "6 5\n",
      "7 6\n"
     ]
    }
   ],
   "source": [
    "for i in range(len(t)):\n",
    "    print(i,t[i])"
   ]
  },
  {
   "cell_type": "code",
   "execution_count": 126,
   "id": "a1bd3ba8",
   "metadata": {},
   "outputs": [
    {
     "name": "stdout",
     "output_type": "stream",
     "text": [
      "0 r\n",
      "1 a\n",
      "2 m\n",
      "3 a\n",
      "4 k\n",
      "5 r\n",
      "6 i\n",
      "7 s\n",
      "8 h\n",
      "9 n\n",
      "10 a\n"
     ]
    }
   ],
   "source": [
    "s=\"ramakrishna\"\n",
    "for i in range(len(s)):\n",
    "    print(i,s[i])"
   ]
  },
  {
   "cell_type": "code",
   "execution_count": 141,
   "id": "74c55bdc",
   "metadata": {},
   "outputs": [
    {
     "name": "stdout",
     "output_type": "stream",
     "text": [
      "10 a\n",
      "9 n\n",
      "8 h\n",
      "7 s\n",
      "6 i\n",
      "5 r\n",
      "4 k\n",
      "3 a\n",
      "2 m\n",
      "1 a\n",
      "0 r\n"
     ]
    }
   ],
   "source": [
    "s=\"ramakrishna\"\n",
    "for i in range(len(s),0,-1):\n",
    "    print(i-1,s[i-1])"
   ]
  },
  {
   "cell_type": "code",
   "execution_count": 139,
   "id": "d7205b8a",
   "metadata": {},
   "outputs": [
    {
     "name": "stdout",
     "output_type": "stream",
     "text": [
      "4 4\n",
      "3 3\n",
      "2 2\n",
      "1 1\n"
     ]
    }
   ],
   "source": [
    "s=[1,2,3,4]\n",
    "for i in range(len(s),0,-1):\n",
    "    print(i,s[i-1])"
   ]
  },
  {
   "cell_type": "code",
   "execution_count": 144,
   "id": "08bf51eb",
   "metadata": {},
   "outputs": [
    {
     "name": "stdout",
     "output_type": "stream",
     "text": [
      "10 a\n",
      "9 n\n",
      "8 h\n",
      "7 s\n",
      "6 i\n",
      "5 r\n",
      "4 k\n",
      "3 a\n",
      "2 m\n",
      "1 a\n",
      "0 r\n"
     ]
    }
   ],
   "source": [
    "s=\"ramakrishna\"\n",
    "for i in range(len(s)-1,-1,-1):\n",
    "    print(i,s[i])"
   ]
  },
  {
   "cell_type": "code",
   "execution_count": 145,
   "id": "d84f5ddc",
   "metadata": {},
   "outputs": [
    {
     "data": {
      "text/plain": [
       "{'key1': 'rk', 'contact': 'ram@123', 'poition': 'ase'}"
      ]
     },
     "execution_count": 145,
     "metadata": {},
     "output_type": "execute_result"
    }
   ],
   "source": [
    "d"
   ]
  },
  {
   "cell_type": "code",
   "execution_count": 148,
   "id": "74249706",
   "metadata": {},
   "outputs": [
    {
     "name": "stdout",
     "output_type": "stream",
     "text": [
      "('key1', 'rk') <class 'tuple'> <class 'str'>\n",
      "('contact', 'ram@123') <class 'tuple'> <class 'str'>\n",
      "('poition', 'ase') <class 'tuple'> <class 'str'>\n"
     ]
    }
   ],
   "source": [
    " for i in d.items():\n",
    "        print(i,type(i),type(i[1]))"
   ]
  },
  {
   "cell_type": "code",
   "execution_count": 158,
   "id": "36732a12",
   "metadata": {},
   "outputs": [],
   "source": [
    "l= [\"rama\",\"kumar\",1234,\"ram@123\",33,45]\n",
    "l1=[]\n",
    "for i in l:\n",
    "     if type(i)==int:\n",
    "            l1.append(i)\n",
    "        \n",
    "        "
   ]
  },
  {
   "cell_type": "code",
   "execution_count": 160,
   "id": "caa6b282",
   "metadata": {},
   "outputs": [
    {
     "data": {
      "text/plain": [
       "[1234, 33, 45]"
      ]
     },
     "execution_count": 160,
     "metadata": {},
     "output_type": "execute_result"
    }
   ],
   "source": [
    "l1"
   ]
  },
  {
   "cell_type": "code",
   "execution_count": 150,
   "id": "fea6a589",
   "metadata": {},
   "outputs": [
    {
     "name": "stdout",
     "output_type": "stream",
     "text": [
      "<class 'str'>\n",
      "<class 'str'>\n",
      "<class 'str'>\n"
     ]
    }
   ],
   "source": [
    "for i in d.items():\n",
    "    print(type(i[1]))"
   ]
  },
  {
   "cell_type": "code",
   "execution_count": 152,
   "id": "3dd44c86",
   "metadata": {},
   "outputs": [
    {
     "name": "stdout",
     "output_type": "stream",
     "text": [
      "<class 'int'>\n",
      "<class 'int'>\n"
     ]
    }
   ],
   "source": [
    "d1={\"a\":1,\"b\":2}\n",
    "for i in d1.items():\n",
    "    print(type(i[1]))"
   ]
  },
  {
   "cell_type": "code",
   "execution_count": 159,
   "id": "b1cc2a15",
   "metadata": {},
   "outputs": [
    {
     "data": {
      "text/plain": [
       "[1234, 33, 45]"
      ]
     },
     "execution_count": 159,
     "metadata": {},
     "output_type": "execute_result"
    }
   ],
   "source": [
    "l1"
   ]
  },
  {
   "cell_type": "code",
   "execution_count": 161,
   "id": "4496c6be",
   "metadata": {},
   "outputs": [
    {
     "data": {
      "text/plain": [
       "{'key1': 'rk', 'contact': 'ram@123', 'poition': 'ase'}"
      ]
     },
     "execution_count": 161,
     "metadata": {},
     "output_type": "execute_result"
    }
   ],
   "source": [
    "d"
   ]
  },
  {
   "cell_type": "code",
   "execution_count": 174,
   "id": "72e32c1e",
   "metadata": {},
   "outputs": [
    {
     "name": "stdout",
     "output_type": "stream",
     "text": [
      "1 1234\n",
      "2 123\n",
      "3 123\n"
     ]
    },
    {
     "data": {
      "text/plain": [
       "[1, 2, 3]"
      ]
     },
     "execution_count": 174,
     "metadata": {},
     "output_type": "execute_result"
    }
   ],
   "source": [
    "d={1:1234,2:123,\"name\":\"ram\",3:123}\n",
    "l2=[]\n",
    "for i in d:\n",
    "    if type(i)==int:\n",
    "        l2.append(i)\n",
    "        print(i,d[i])\n",
    "    \n",
    "l2"
   ]
  },
  {
   "cell_type": "code",
   "execution_count": 191,
   "id": "f984055b",
   "metadata": {},
   "outputs": [
    {
     "name": "stdout",
     "output_type": "stream",
     "text": [
      "b 2\n",
      "a 3\n",
      "c 1\n"
     ]
    }
   ],
   "source": [
    "s=\"aaabbc\"\n",
    "s1=list(set(s))\n",
    "for i in set(s):\n",
    "    print(i,s.count(i))\n",
    "    "
   ]
  },
  {
   "cell_type": "code",
   "execution_count": 201,
   "id": "02e22e57",
   "metadata": {},
   "outputs": [
    {
     "name": "stdout",
     "output_type": "stream",
     "text": [
      "1 <class 'int'>\n",
      "2 <class 'int'>\n",
      "3 <class 'int'>\n",
      "4 <class 'int'>\n",
      "5 <class 'int'>\n",
      "6 <class 'int'>\n",
      "7 <class 'int'>\n"
     ]
    }
   ],
   "source": [
    "i=1234567\n",
    "j=str(i)\n",
    "for k in j:\n",
    "    print(int(k),type(int(j)))"
   ]
  },
  {
   "cell_type": "code",
   "execution_count": 196,
   "id": "fabee641",
   "metadata": {},
   "outputs": [
    {
     "data": {
      "text/plain": [
       "'1234567'"
      ]
     },
     "execution_count": 196,
     "metadata": {},
     "output_type": "execute_result"
    }
   ],
   "source": [
    "str(i)"
   ]
  },
  {
   "cell_type": "code",
   "execution_count": 224,
   "id": "c7e9dca4",
   "metadata": {},
   "outputs": [
    {
     "name": "stdout",
     "output_type": "stream",
     "text": [
      "3\n",
      "3\n",
      "3\n",
      "3\n",
      "3\n"
     ]
    }
   ],
   "source": [
    "t=(3,\"sudh\",\"kumar\",[1,2,3,4],(1,2,3),{3:3,\"key2\":\"rk\"})\n",
    "for i in t:\n",
    "    if i==3:\n",
    "        print(i)\n",
    "    if type(i)==list or type(i)==tuple:\n",
    "        for j in i:\n",
    "            if j==3:\n",
    "                print(j)\n",
    "            \n",
    "    if type(i)==dict:\n",
    "        for k,v in i.items():\n",
    "            if k==3 or v==3:\n",
    "                print(k)\n",
    "                print(v)\n",
    "               \n",
    "            "
   ]
  },
  {
   "cell_type": "code",
   "execution_count": 231,
   "id": "779da70c",
   "metadata": {},
   "outputs": [
    {
     "name": "stdout",
     "output_type": "stream",
     "text": [
      "4 5\n",
      "key1 rsm\n",
      "key2 hi\n"
     ]
    }
   ],
   "source": [
    "d={4:5,\"key1\":\"rsm\",\"key2\":\"hi\"}\n",
    "for i,j in d.items():\n",
    "    print(i,j)"
   ]
  },
  {
   "cell_type": "code",
   "execution_count": 232,
   "id": "a23faa0e",
   "metadata": {},
   "outputs": [
    {
     "data": {
      "text/plain": [
       "dict_items([(4, 5), ('key1', 'rsm'), ('key2', 'hi')])"
      ]
     },
     "execution_count": 232,
     "metadata": {},
     "output_type": "execute_result"
    }
   ],
   "source": [
    "d.items()"
   ]
  },
  {
   "cell_type": "code",
   "execution_count": 233,
   "id": "a8c90ac6",
   "metadata": {},
   "outputs": [],
   "source": [
    "a=10\n",
    "b=20\n",
    "c=30"
   ]
  },
  {
   "cell_type": "code",
   "execution_count": 234,
   "id": "3e906849",
   "metadata": {},
   "outputs": [],
   "source": [
    "a,b,c=10,20,30"
   ]
  },
  {
   "cell_type": "code",
   "execution_count": 235,
   "id": "ef06f5f4",
   "metadata": {},
   "outputs": [],
   "source": [
    "a,b,c=(10,20,30)"
   ]
  },
  {
   "cell_type": "code",
   "execution_count": 236,
   "id": "cfe785cd",
   "metadata": {},
   "outputs": [
    {
     "data": {
      "text/plain": [
       "10"
      ]
     },
     "execution_count": 236,
     "metadata": {},
     "output_type": "execute_result"
    }
   ],
   "source": [
    "a"
   ]
  },
  {
   "cell_type": "code",
   "execution_count": null,
   "id": "71c7da91",
   "metadata": {},
   "outputs": [],
   "source": []
  }
 ],
 "metadata": {
  "kernelspec": {
   "display_name": "Python 3 (ipykernel)",
   "language": "python",
   "name": "python3"
  },
  "language_info": {
   "codemirror_mode": {
    "name": "ipython",
    "version": 3
   },
   "file_extension": ".py",
   "mimetype": "text/x-python",
   "name": "python",
   "nbconvert_exporter": "python",
   "pygments_lexer": "ipython3",
   "version": "3.9.12"
  }
 },
 "nbformat": 4,
 "nbformat_minor": 5
}
