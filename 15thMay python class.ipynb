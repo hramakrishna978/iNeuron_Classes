{
 "cells": [
  {
   "cell_type": "code",
   "execution_count": 1,
   "id": "ad3f7f76",
   "metadata": {},
   "outputs": [],
   "source": [
    "s=\"iNeuron\""
   ]
  },
  {
   "cell_type": "code",
   "execution_count": 2,
   "id": "48489473",
   "metadata": {},
   "outputs": [
    {
     "data": {
      "text/plain": [
       "str"
      ]
     },
     "execution_count": 2,
     "metadata": {},
     "output_type": "execute_result"
    }
   ],
   "source": [
    "type(s)"
   ]
  },
  {
   "cell_type": "code",
   "execution_count": 3,
   "id": "fa6bbcbc",
   "metadata": {},
   "outputs": [
    {
     "data": {
      "text/plain": [
       "'i'"
      ]
     },
     "execution_count": 3,
     "metadata": {},
     "output_type": "execute_result"
    }
   ],
   "source": [
    "s[0]"
   ]
  },
  {
   "cell_type": "code",
   "execution_count": 4,
   "id": "b193504f",
   "metadata": {},
   "outputs": [
    {
     "data": {
      "text/plain": [
       "'iNe'"
      ]
     },
     "execution_count": 4,
     "metadata": {},
     "output_type": "execute_result"
    }
   ],
   "source": [
    "s[0:3]"
   ]
  },
  {
   "cell_type": "code",
   "execution_count": 5,
   "id": "5b1c85bf",
   "metadata": {},
   "outputs": [
    {
     "data": {
      "text/plain": [
       "'n'"
      ]
     },
     "execution_count": 5,
     "metadata": {},
     "output_type": "execute_result"
    }
   ],
   "source": [
    " s[-1]"
   ]
  },
  {
   "cell_type": "code",
   "execution_count": 6,
   "id": "f855085f",
   "metadata": {},
   "outputs": [
    {
     "data": {
      "text/plain": [
       "'eur'"
      ]
     },
     "execution_count": 6,
     "metadata": {},
     "output_type": "execute_result"
    }
   ],
   "source": [
    "s[2:-2]"
   ]
  },
  {
   "cell_type": "code",
   "execution_count": 7,
   "id": "3c998e0e",
   "metadata": {},
   "outputs": [],
   "source": [
    "s2=\"my first cls's\"\n"
   ]
  },
  {
   "cell_type": "code",
   "execution_count": 8,
   "id": "c72f5a4a",
   "metadata": {},
   "outputs": [
    {
     "data": {
      "text/plain": [
       "\"my first cls's\""
      ]
     },
     "execution_count": 8,
     "metadata": {},
     "output_type": "execute_result"
    }
   ],
   "source": [
    "s2"
   ]
  },
  {
   "cell_type": "code",
   "execution_count": 9,
   "id": "5d2b6e91",
   "metadata": {},
   "outputs": [
    {
     "data": {
      "text/plain": [
       "'i'"
      ]
     },
     "execution_count": 9,
     "metadata": {},
     "output_type": "execute_result"
    }
   ],
   "source": [
    "s2[4]"
   ]
  },
  {
   "cell_type": "code",
   "execution_count": 10,
   "id": "a252c238",
   "metadata": {},
   "outputs": [
    {
     "data": {
      "text/plain": [
       "'my f'"
      ]
     },
     "execution_count": 10,
     "metadata": {},
     "output_type": "execute_result"
    }
   ],
   "source": [
    "s2[0:4]"
   ]
  },
  {
   "cell_type": "code",
   "execution_count": 11,
   "id": "96666ebb",
   "metadata": {},
   "outputs": [
    {
     "data": {
      "text/plain": [
       "'fr'"
      ]
     },
     "execution_count": 11,
     "metadata": {},
     "output_type": "execute_result"
    }
   ],
   "source": [
    "s2[3:6:2]"
   ]
  },
  {
   "cell_type": "code",
   "execution_count": 12,
   "id": "e77ac1c5",
   "metadata": {},
   "outputs": [
    {
     "data": {
      "text/plain": [
       "'m is '"
      ]
     },
     "execution_count": 12,
     "metadata": {},
     "output_type": "execute_result"
    }
   ],
   "source": [
    "s2[0:10:2]"
   ]
  },
  {
   "cell_type": "markdown",
   "id": "1aa2837f",
   "metadata": {},
   "source": [
    "jumping (3rd index)"
   ]
  },
  {
   "cell_type": "code",
   "execution_count": 13,
   "id": "12c9ff7a",
   "metadata": {},
   "outputs": [],
   "source": [
    "s3='ramakrishna'"
   ]
  },
  {
   "cell_type": "code",
   "execution_count": 14,
   "id": "091e76dc",
   "metadata": {},
   "outputs": [
    {
     "data": {
      "text/plain": [
       "''"
      ]
     },
     "execution_count": 14,
     "metadata": {},
     "output_type": "execute_result"
    }
   ],
   "source": [
    "s3[0:10:-1]"
   ]
  },
  {
   "cell_type": "code",
   "execution_count": 15,
   "id": "105f5a62",
   "metadata": {},
   "outputs": [
    {
     "data": {
      "text/plain": [
       "'anhsirkama'"
      ]
     },
     "execution_count": 15,
     "metadata": {},
     "output_type": "execute_result"
    }
   ],
   "source": [
    "s3[10:0:-1]"
   ]
  },
  {
   "cell_type": "code",
   "execution_count": 16,
   "id": "a59a9145",
   "metadata": {},
   "outputs": [
    {
     "data": {
      "text/plain": [
       "'ahikm'"
      ]
     },
     "execution_count": 16,
     "metadata": {},
     "output_type": "execute_result"
    }
   ],
   "source": [
    "s3[10:0:-2]"
   ]
  },
  {
   "cell_type": "code",
   "execution_count": 17,
   "id": "fc472180",
   "metadata": {},
   "outputs": [
    {
     "data": {
      "text/plain": [
       "'ramakris'"
      ]
     },
     "execution_count": 17,
     "metadata": {},
     "output_type": "execute_result"
    }
   ],
   "source": [
    "s3[:-3]"
   ]
  },
  {
   "cell_type": "code",
   "execution_count": 18,
   "id": "486d8444",
   "metadata": {},
   "outputs": [
    {
     "data": {
      "text/plain": [
       "'na'"
      ]
     },
     "execution_count": 18,
     "metadata": {},
     "output_type": "execute_result"
    }
   ],
   "source": [
    "s3[-2:]"
   ]
  },
  {
   "cell_type": "code",
   "execution_count": 19,
   "id": "9961550c",
   "metadata": {},
   "outputs": [
    {
     "data": {
      "text/plain": [
       "'ramakrishna'"
      ]
     },
     "execution_count": 19,
     "metadata": {},
     "output_type": "execute_result"
    }
   ],
   "source": [
    "s3[::1]"
   ]
  },
  {
   "cell_type": "code",
   "execution_count": 20,
   "id": "84673fda",
   "metadata": {},
   "outputs": [
    {
     "data": {
      "text/plain": [
       "'ramakrishna'"
      ]
     },
     "execution_count": 20,
     "metadata": {},
     "output_type": "execute_result"
    }
   ],
   "source": [
    "s3[0:50:1]"
   ]
  },
  {
   "cell_type": "code",
   "execution_count": 21,
   "id": "92f853e6",
   "metadata": {},
   "outputs": [
    {
     "data": {
      "text/plain": [
       "'anhsirkamar'"
      ]
     },
     "execution_count": 21,
     "metadata": {},
     "output_type": "execute_result"
    }
   ],
   "source": [
    "s3[::-1]"
   ]
  },
  {
   "cell_type": "code",
   "execution_count": 22,
   "id": "90b9f24c",
   "metadata": {},
   "outputs": [
    {
     "data": {
      "text/plain": [
       "'hsirkamar'"
      ]
     },
     "execution_count": 22,
     "metadata": {},
     "output_type": "execute_result"
    }
   ],
   "source": [
    "s3[8::-1\n",
    "  ]"
   ]
  },
  {
   "cell_type": "code",
   "execution_count": 23,
   "id": "983fc049",
   "metadata": {},
   "outputs": [
    {
     "data": {
      "text/plain": [
       "''"
      ]
     },
     "execution_count": 23,
     "metadata": {},
     "output_type": "execute_result"
    }
   ],
   "source": [
    "s3[-2:-7:1]"
   ]
  },
  {
   "cell_type": "code",
   "execution_count": 24,
   "id": "008ba41a",
   "metadata": {},
   "outputs": [
    {
     "data": {
      "text/plain": [
       "'krish'"
      ]
     },
     "execution_count": 24,
     "metadata": {},
     "output_type": "execute_result"
    }
   ],
   "source": [
    "s3[-7:-2:1]"
   ]
  },
  {
   "cell_type": "code",
   "execution_count": 25,
   "id": "8efcc529",
   "metadata": {},
   "outputs": [
    {
     "data": {
      "text/plain": [
       "'nhsir'"
      ]
     },
     "execution_count": 25,
     "metadata": {},
     "output_type": "execute_result"
    }
   ],
   "source": [
    "s3[-2:-7:-1]"
   ]
  },
  {
   "cell_type": "code",
   "execution_count": 26,
   "id": "cbe85d24",
   "metadata": {},
   "outputs": [
    {
     "data": {
      "text/plain": [
       "''"
      ]
     },
     "execution_count": 26,
     "metadata": {},
     "output_type": "execute_result"
    }
   ],
   "source": [
    "s3[5:0]"
   ]
  },
  {
   "cell_type": "code",
   "execution_count": 27,
   "id": "dd5e78a3",
   "metadata": {},
   "outputs": [
    {
     "ename": "TypeError",
     "evalue": "can only concatenate str (not \"int\") to str",
     "output_type": "error",
     "traceback": [
      "\u001b[1;31m---------------------------------------------------------------------------\u001b[0m",
      "\u001b[1;31mTypeError\u001b[0m                                 Traceback (most recent call last)",
      "Input \u001b[1;32mIn [27]\u001b[0m, in \u001b[0;36m<cell line: 1>\u001b[1;34m()\u001b[0m\n\u001b[1;32m----> 1\u001b[0m \u001b[43ms3\u001b[49m\u001b[38;5;241;43m+\u001b[39;49m\u001b[38;5;241;43m1\u001b[39;49m\n",
      "\u001b[1;31mTypeError\u001b[0m: can only concatenate str (not \"int\") to str"
     ]
    }
   ],
   "source": [
    "s3+1"
   ]
  },
  {
   "cell_type": "code",
   "execution_count": 28,
   "id": "2b152f1d",
   "metadata": {},
   "outputs": [
    {
     "data": {
      "text/plain": [
       "'ramakrishna1'"
      ]
     },
     "execution_count": 28,
     "metadata": {},
     "output_type": "execute_result"
    }
   ],
   "source": [
    "s3+\"1\""
   ]
  },
  {
   "cell_type": "code",
   "execution_count": 29,
   "id": "299df986",
   "metadata": {},
   "outputs": [
    {
     "data": {
      "text/plain": [
       "'ramakrishna1'"
      ]
     },
     "execution_count": 29,
     "metadata": {},
     "output_type": "execute_result"
    }
   ],
   "source": [
    "s3+'1'"
   ]
  },
  {
   "cell_type": "code",
   "execution_count": 30,
   "id": "5d55824a",
   "metadata": {},
   "outputs": [
    {
     "data": {
      "text/plain": [
       "'ramakrishna1'"
      ]
     },
     "execution_count": 30,
     "metadata": {},
     "output_type": "execute_result"
    }
   ],
   "source": [
    "s3+str(1)"
   ]
  },
  {
   "cell_type": "code",
   "execution_count": 31,
   "id": "18394760",
   "metadata": {},
   "outputs": [
    {
     "data": {
      "text/plain": [
       "11"
      ]
     },
     "execution_count": 31,
     "metadata": {},
     "output_type": "execute_result"
    }
   ],
   "source": [
    "len(s3)"
   ]
  },
  {
   "cell_type": "code",
   "execution_count": 32,
   "id": "72ac8a55",
   "metadata": {},
   "outputs": [
    {
     "data": {
      "text/plain": [
       "'ramakrishnaramakrishna'"
      ]
     },
     "execution_count": 32,
     "metadata": {},
     "output_type": "execute_result"
    }
   ],
   "source": [
    "s3*2"
   ]
  },
  {
   "cell_type": "code",
   "execution_count": 33,
   "id": "eeaab940",
   "metadata": {},
   "outputs": [
    {
     "data": {
      "text/plain": [
       "3"
      ]
     },
     "execution_count": 33,
     "metadata": {},
     "output_type": "execute_result"
    }
   ],
   "source": [
    "s3.count('a')"
   ]
  },
  {
   "cell_type": "code",
   "execution_count": 34,
   "id": "db96be6e",
   "metadata": {},
   "outputs": [
    {
     "data": {
      "text/plain": [
       "1"
      ]
     },
     "execution_count": 34,
     "metadata": {},
     "output_type": "execute_result"
    }
   ],
   "source": [
    "s3.count('ra')"
   ]
  },
  {
   "cell_type": "code",
   "execution_count": 35,
   "id": "ef4f022b",
   "metadata": {},
   "outputs": [
    {
     "data": {
      "text/plain": [
       "0"
      ]
     },
     "execution_count": 35,
     "metadata": {},
     "output_type": "execute_result"
    }
   ],
   "source": [
    "s3.count('ka')"
   ]
  },
  {
   "cell_type": "code",
   "execution_count": 36,
   "id": "a3ed5257",
   "metadata": {},
   "outputs": [
    {
     "data": {
      "text/plain": [
       "['r', 'm', 'krishn', '']"
      ]
     },
     "execution_count": 36,
     "metadata": {},
     "output_type": "execute_result"
    }
   ],
   "source": [
    "s3.split('a')"
   ]
  },
  {
   "cell_type": "code",
   "execution_count": 37,
   "id": "e8ec808e",
   "metadata": {},
   "outputs": [],
   "source": [
    "sw='The Samsung Group[3] (or simply Samsung, stylized as SΛMSUNG) (Korean: 삼성 [samsʌŋ]) is a South Korean multinational manufacturing conglomerate headquartered in Samsung Town, Seoul, South Korea.[1] It comprises numerous affiliated businesses,[1] most of them united under the Samsung brand, and is the largest South Korean chaebol (business conglomerate). As of 2020, Samsung has the 8th highest global brand value.[4]'"
   ]
  },
  {
   "cell_type": "code",
   "execution_count": 38,
   "id": "076a3002",
   "metadata": {},
   "outputs": [
    {
     "data": {
      "text/plain": [
       "'The Samsung Group[3] (or simply Samsung, stylized as SΛMSUNG) (Korean: 삼성 [samsʌŋ]) is a South Korean multinational manufacturing conglomerate headquartered in Samsung Town, Seoul, South Korea.[1] It comprises numerous affiliated businesses,[1] most of them united under the Samsung brand, and is the largest South Korean chaebol (business conglomerate). As of 2020, Samsung has the 8th highest global brand value.[4]'"
      ]
     },
     "execution_count": 38,
     "metadata": {},
     "output_type": "execute_result"
    }
   ],
   "source": [
    "sw"
   ]
  },
  {
   "cell_type": "code",
   "execution_count": 39,
   "id": "3044dee3",
   "metadata": {},
   "outputs": [
    {
     "ename": "SyntaxError",
     "evalue": "invalid syntax (2305257171.py, line 1)",
     "output_type": "error",
     "traceback": [
      "\u001b[1;36m  Input \u001b[1;32mIn [39]\u001b[1;36m\u001b[0m\n\u001b[1;33m    sw='In 2007, former Samsung chief lawyer Kim Yong Chul claimed that he was involved in bribing and fabricating evidence on behalf of the group's chairman, Lee Kun-hee, and the company. Kim said that Samsung lawyers trained executives to serve as scapegoats in a \"fabricated scenario\" to protect Lee, even though those executives were not involved. Kim also told the media that he was \"sidelined\" by Samsung after he refused to pay a $3.3 million bribe to the U.S. Federal District Court judge presiding over a case where two of their executives were found guilty on charges related to memory chip price-fixing. Kim revealed that the company had raised a large number of secret funds through bank accounts illegally opened under the names of up to 1,000 Samsung executives—under his own name, four accounts were opened to manage 5 billion won.[31]'\u001b[0m\n\u001b[1;37m                                                                                                                                                   ^\u001b[0m\n\u001b[1;31mSyntaxError\u001b[0m\u001b[1;31m:\u001b[0m invalid syntax\n"
     ]
    }
   ],
   "source": [
    "sw='In 2007, former Samsung chief lawyer Kim Yong Chul claimed that he was involved in bribing and fabricating evidence on behalf of the group's chairman, Lee Kun-hee, and the company. Kim said that Samsung lawyers trained executives to serve as scapegoats in a \"fabricated scenario\" to protect Lee, even though those executives were not involved. Kim also told the media that he was \"sidelined\" by Samsung after he refused to pay a $3.3 million bribe to the U.S. Federal District Court judge presiding over a case where two of their executives were found guilty on charges related to memory chip price-fixing. Kim revealed that the company had raised a large number of secret funds through bank accounts illegally opened under the names of up to 1,000 Samsung executives—under his own name, four accounts were opened to manage 5 billion won.[31]'"
   ]
  },
  {
   "cell_type": "code",
   "execution_count": 40,
   "id": "1ca0b460",
   "metadata": {},
   "outputs": [
    {
     "ename": "SyntaxError",
     "evalue": "invalid syntax (4237498954.py, line 1)",
     "output_type": "error",
     "traceback": [
      "\u001b[1;36m  Input \u001b[1;32mIn [40]\u001b[1;36m\u001b[0m\n\u001b[1;33m    sw=\"In 2007, former Samsung chief lawyer Kim Yong Chul claimed that he was involved in bribing and fabricating evidence on behalf of the group's chairman, Lee Kun-hee, and the company. Kim said that Samsung lawyers trained executives to serve as scapegoats in a \"fabricated scenario\" to protect Lee, even though those executives were not involved. Kim also told the media that he was \"sidelined\" by Samsung after he refused to pay a $3.3 million bribe to the U.S. Federal District Court judge presiding over a case where two of their executives were found guilty on charges related to memory chip price-fixing. Kim revealed that the company had raised a large number of secret funds through bank accounts illegally opened under the names of up to 1,000 Samsung executives—under his own name, four accounts were opened to manage 5 billion won.[31]\"\u001b[0m\n\u001b[1;37m                                                                                                                                                                                                                                                                           ^\u001b[0m\n\u001b[1;31mSyntaxError\u001b[0m\u001b[1;31m:\u001b[0m invalid syntax\n"
     ]
    }
   ],
   "source": [
    "sw=\"In 2007, former Samsung chief lawyer Kim Yong Chul claimed that he was involved in bribing and fabricating evidence on behalf of the group's chairman, Lee Kun-hee, and the company. Kim said that Samsung lawyers trained executives to serve as scapegoats in a \"fabricated scenario\" to protect Lee, even though those executives were not involved. Kim also told the media that he was \"sidelined\" by Samsung after he refused to pay a $3.3 million bribe to the U.S. Federal District Court judge presiding over a case where two of their executives were found guilty on charges related to memory chip price-fixing. Kim revealed that the company had raised a large number of secret funds through bank accounts illegally opened under the names of up to 1,000 Samsung executives—under his own name, four accounts were opened to manage 5 billion won.[31]\""
   ]
  },
  {
   "cell_type": "code",
   "execution_count": 41,
   "id": "8ced6214",
   "metadata": {},
   "outputs": [
    {
     "data": {
      "text/plain": [
       "['The',\n",
       " 'Samsung',\n",
       " 'Group[3]',\n",
       " '(or',\n",
       " 'simply',\n",
       " 'Samsung,',\n",
       " 'stylized',\n",
       " 'as',\n",
       " 'SΛMSUNG)',\n",
       " '(Korean:',\n",
       " '삼성',\n",
       " '[samsʌŋ])',\n",
       " 'is',\n",
       " 'a',\n",
       " 'South',\n",
       " 'Korean',\n",
       " 'multinational',\n",
       " 'manufacturing',\n",
       " 'conglomerate',\n",
       " 'headquartered',\n",
       " 'in',\n",
       " 'Samsung',\n",
       " 'Town,',\n",
       " 'Seoul,',\n",
       " 'South',\n",
       " 'Korea.[1]',\n",
       " 'It',\n",
       " 'comprises',\n",
       " 'numerous',\n",
       " 'affiliated',\n",
       " 'businesses,[1]',\n",
       " 'most',\n",
       " 'of',\n",
       " 'them',\n",
       " 'united',\n",
       " 'under',\n",
       " 'the',\n",
       " 'Samsung',\n",
       " 'brand,',\n",
       " 'and',\n",
       " 'is',\n",
       " 'the',\n",
       " 'largest',\n",
       " 'South',\n",
       " 'Korean',\n",
       " 'chaebol',\n",
       " '(business',\n",
       " 'conglomerate).',\n",
       " 'As',\n",
       " 'of',\n",
       " '2020,',\n",
       " 'Samsung',\n",
       " 'has',\n",
       " 'the',\n",
       " '8th',\n",
       " 'highest',\n",
       " 'global',\n",
       " 'brand',\n",
       " 'value.[4]']"
      ]
     },
     "execution_count": 41,
     "metadata": {},
     "output_type": "execute_result"
    }
   ],
   "source": [
    "sw.split(' ')"
   ]
  },
  {
   "cell_type": "code",
   "execution_count": 42,
   "id": "6731a8f4",
   "metadata": {},
   "outputs": [],
   "source": [
    "sw=\"\"\"In 2007, former Samsung chief lawyer Kim Yong Chul claimed that he was involved in bribing and fabricating evidence on behalf of the group's chairman, Lee Kun-hee, and the company. Kim said that Samsung lawyers trained executives to serve as scapegoats in a \"fabricated scenario\" to protect Lee, even though those executives were not involved. Kim also told the media that he was \"sidelined\" by Samsung after he refused to pay a $3.3 million bribe to the U.S. Federal District Court judge presiding over a case where two of their executives were found guilty on charges related to memory chip price-fixing. Kim revealed that the company had raised a large number of secret funds through bank accounts illegally opened under the names of up to 1,000 Samsung executives—under his own name, four accounts were opened to manage 5 billion won.[31]\"\"\""
   ]
  },
  {
   "cell_type": "code",
   "execution_count": 43,
   "id": "2035887d",
   "metadata": {},
   "outputs": [
    {
     "data": {
      "text/plain": [
       "'In 2007, former Samsung chief lawyer Kim Yong Chul claimed that he was involved in bribing and fabricating evidence on behalf of the group\\'s chairman, Lee Kun-hee, and the company. Kim said that Samsung lawyers trained executives to serve as scapegoats in a \"fabricated scenario\" to protect Lee, even though those executives were not involved. Kim also told the media that he was \"sidelined\" by Samsung after he refused to pay a $3.3 million bribe to the U.S. Federal District Court judge presiding over a case where two of their executives were found guilty on charges related to memory chip price-fixing. Kim revealed that the company had raised a large number of secret funds through bank accounts illegally opened under the names of up to 1,000 Samsung executives—under his own name, four accounts were opened to manage 5 billion won.[31]'"
      ]
     },
     "execution_count": 43,
     "metadata": {},
     "output_type": "execute_result"
    }
   ],
   "source": [
    "sw"
   ]
  },
  {
   "cell_type": "code",
   "execution_count": 44,
   "id": "bc7c5247",
   "metadata": {},
   "outputs": [
    {
     "data": {
      "text/plain": [
       "['In',\n",
       " '2007,',\n",
       " 'former',\n",
       " 'Samsung',\n",
       " 'chief',\n",
       " 'lawyer',\n",
       " 'Kim',\n",
       " 'Yong',\n",
       " 'Chul',\n",
       " 'claimed',\n",
       " 'that',\n",
       " 'he',\n",
       " 'was',\n",
       " 'involved',\n",
       " 'in',\n",
       " 'bribing',\n",
       " 'and',\n",
       " 'fabricating',\n",
       " 'evidence',\n",
       " 'on',\n",
       " 'behalf',\n",
       " 'of',\n",
       " 'the',\n",
       " \"group's\",\n",
       " 'chairman,',\n",
       " 'Lee',\n",
       " 'Kun-hee,',\n",
       " 'and',\n",
       " 'the',\n",
       " 'company.',\n",
       " 'Kim',\n",
       " 'said',\n",
       " 'that',\n",
       " 'Samsung',\n",
       " 'lawyers',\n",
       " 'trained',\n",
       " 'executives',\n",
       " 'to',\n",
       " 'serve',\n",
       " 'as',\n",
       " 'scapegoats',\n",
       " 'in',\n",
       " 'a',\n",
       " '\"fabricated',\n",
       " 'scenario\"',\n",
       " 'to',\n",
       " 'protect',\n",
       " 'Lee,',\n",
       " 'even',\n",
       " 'though',\n",
       " 'those',\n",
       " 'executives',\n",
       " 'were',\n",
       " 'not',\n",
       " 'involved.',\n",
       " 'Kim',\n",
       " 'also',\n",
       " 'told',\n",
       " 'the',\n",
       " 'media',\n",
       " 'that',\n",
       " 'he',\n",
       " 'was',\n",
       " '\"sidelined\"',\n",
       " 'by',\n",
       " 'Samsung',\n",
       " 'after',\n",
       " 'he',\n",
       " 'refused',\n",
       " 'to',\n",
       " 'pay',\n",
       " 'a',\n",
       " '$3.3',\n",
       " 'million',\n",
       " 'bribe',\n",
       " 'to',\n",
       " 'the',\n",
       " 'U.S.',\n",
       " 'Federal',\n",
       " 'District',\n",
       " 'Court',\n",
       " 'judge',\n",
       " 'presiding',\n",
       " 'over',\n",
       " 'a',\n",
       " 'case',\n",
       " 'where',\n",
       " 'two',\n",
       " 'of',\n",
       " 'their',\n",
       " 'executives',\n",
       " 'were',\n",
       " 'found',\n",
       " 'guilty',\n",
       " 'on',\n",
       " 'charges',\n",
       " 'related',\n",
       " 'to',\n",
       " 'memory',\n",
       " 'chip',\n",
       " 'price-fixing.',\n",
       " 'Kim',\n",
       " 'revealed',\n",
       " 'that',\n",
       " 'the',\n",
       " 'company',\n",
       " 'had',\n",
       " 'raised',\n",
       " 'a',\n",
       " 'large',\n",
       " 'number',\n",
       " 'of',\n",
       " 'secret',\n",
       " 'funds',\n",
       " 'through',\n",
       " 'bank',\n",
       " 'accounts',\n",
       " 'illegally',\n",
       " 'opened',\n",
       " 'under',\n",
       " 'the',\n",
       " 'names',\n",
       " 'of',\n",
       " 'up',\n",
       " 'to',\n",
       " '1,000',\n",
       " 'Samsung',\n",
       " 'executives—under',\n",
       " 'his',\n",
       " 'own',\n",
       " 'name,',\n",
       " 'four',\n",
       " 'accounts',\n",
       " 'were',\n",
       " 'opened',\n",
       " 'to',\n",
       " 'manage',\n",
       " '5',\n",
       " 'billion',\n",
       " 'won.[31]']"
      ]
     },
     "execution_count": 44,
     "metadata": {},
     "output_type": "execute_result"
    }
   ],
   "source": [
    "sw.split(' ')"
   ]
  },
  {
   "cell_type": "code",
   "execution_count": 45,
   "id": "f315ea90",
   "metadata": {},
   "outputs": [
    {
     "data": {
      "text/plain": [
       "'IN 2007, FORMER SAMSUNG CHIEF LAWYER KIM YONG CHUL CLAIMED THAT HE WAS INVOLVED IN BRIBING AND FABRICATING EVIDENCE ON BEHALF OF THE GROUP\\'S CHAIRMAN, LEE KUN-HEE, AND THE COMPANY. KIM SAID THAT SAMSUNG LAWYERS TRAINED EXECUTIVES TO SERVE AS SCAPEGOATS IN A \"FABRICATED SCENARIO\" TO PROTECT LEE, EVEN THOUGH THOSE EXECUTIVES WERE NOT INVOLVED. KIM ALSO TOLD THE MEDIA THAT HE WAS \"SIDELINED\" BY SAMSUNG AFTER HE REFUSED TO PAY A $3.3 MILLION BRIBE TO THE U.S. FEDERAL DISTRICT COURT JUDGE PRESIDING OVER A CASE WHERE TWO OF THEIR EXECUTIVES WERE FOUND GUILTY ON CHARGES RELATED TO MEMORY CHIP PRICE-FIXING. KIM REVEALED THAT THE COMPANY HAD RAISED A LARGE NUMBER OF SECRET FUNDS THROUGH BANK ACCOUNTS ILLEGALLY OPENED UNDER THE NAMES OF UP TO 1,000 SAMSUNG EXECUTIVES—UNDER HIS OWN NAME, FOUR ACCOUNTS WERE OPENED TO MANAGE 5 BILLION WON.[31]'"
      ]
     },
     "execution_count": 45,
     "metadata": {},
     "output_type": "execute_result"
    }
   ],
   "source": [
    "sw.upper()"
   ]
  },
  {
   "cell_type": "code",
   "execution_count": 46,
   "id": "aebff309",
   "metadata": {},
   "outputs": [
    {
     "data": {
      "text/plain": [
       "'in 2007, former samsung chief lawyer kim yong chul claimed that he was involved in bribing and fabricating evidence on behalf of the group\\'s chairman, lee kun-hee, and the company. kim said that samsung lawyers trained executives to serve as scapegoats in a \"fabricated scenario\" to protect lee, even though those executives were not involved. kim also told the media that he was \"sidelined\" by samsung after he refused to pay a $3.3 million bribe to the u.s. federal district court judge presiding over a case where two of their executives were found guilty on charges related to memory chip price-fixing. kim revealed that the company had raised a large number of secret funds through bank accounts illegally opened under the names of up to 1,000 samsung executives—under his own name, four accounts were opened to manage 5 billion won.[31]'"
      ]
     },
     "execution_count": 46,
     "metadata": {},
     "output_type": "execute_result"
    }
   ],
   "source": [
    "sw.lower()"
   ]
  },
  {
   "cell_type": "code",
   "execution_count": 47,
   "id": "b699b561",
   "metadata": {},
   "outputs": [],
   "source": [
    "sw=sw.upper()"
   ]
  },
  {
   "cell_type": "code",
   "execution_count": 48,
   "id": "143fdd7b",
   "metadata": {},
   "outputs": [
    {
     "data": {
      "text/plain": [
       "'IN 2007, FORMER SAMSUNG CHIEF LAWYER KIM YONG CHUL CLAIMED THAT HE WAS INVOLVED IN BRIBING AND FABRICATING EVIDENCE ON BEHALF OF THE GROUP\\'S CHAIRMAN, LEE KUN-HEE, AND THE COMPANY. KIM SAID THAT SAMSUNG LAWYERS TRAINED EXECUTIVES TO SERVE AS SCAPEGOATS IN A \"FABRICATED SCENARIO\" TO PROTECT LEE, EVEN THOUGH THOSE EXECUTIVES WERE NOT INVOLVED. KIM ALSO TOLD THE MEDIA THAT HE WAS \"SIDELINED\" BY SAMSUNG AFTER HE REFUSED TO PAY A $3.3 MILLION BRIBE TO THE U.S. FEDERAL DISTRICT COURT JUDGE PRESIDING OVER A CASE WHERE TWO OF THEIR EXECUTIVES WERE FOUND GUILTY ON CHARGES RELATED TO MEMORY CHIP PRICE-FIXING. KIM REVEALED THAT THE COMPANY HAD RAISED A LARGE NUMBER OF SECRET FUNDS THROUGH BANK ACCOUNTS ILLEGALLY OPENED UNDER THE NAMES OF UP TO 1,000 SAMSUNG EXECUTIVES—UNDER HIS OWN NAME, FOUR ACCOUNTS WERE OPENED TO MANAGE 5 BILLION WON.[31]'"
      ]
     },
     "execution_count": 48,
     "metadata": {},
     "output_type": "execute_result"
    }
   ],
   "source": [
    "sw"
   ]
  },
  {
   "cell_type": "code",
   "execution_count": 49,
   "id": "cfa96522",
   "metadata": {},
   "outputs": [
    {
     "data": {
      "text/plain": [
       "'Ramakrishna'"
      ]
     },
     "execution_count": 49,
     "metadata": {},
     "output_type": "execute_result"
    }
   ],
   "source": [
    "s3.title()"
   ]
  },
  {
   "cell_type": "code",
   "execution_count": 50,
   "id": "b56ac34c",
   "metadata": {},
   "outputs": [],
   "source": [
    "s3='rama krishna'"
   ]
  },
  {
   "cell_type": "code",
   "execution_count": 51,
   "id": "e4f893f5",
   "metadata": {},
   "outputs": [
    {
     "data": {
      "text/plain": [
       "'rama krishna'"
      ]
     },
     "execution_count": 51,
     "metadata": {},
     "output_type": "execute_result"
    }
   ],
   "source": [
    "s3"
   ]
  },
  {
   "cell_type": "code",
   "execution_count": 52,
   "id": "e02a5c1d",
   "metadata": {},
   "outputs": [
    {
     "data": {
      "text/plain": [
       "'Rama krishna'"
      ]
     },
     "execution_count": 52,
     "metadata": {},
     "output_type": "execute_result"
    }
   ],
   "source": [
    "s3.capitalize()"
   ]
  },
  {
   "cell_type": "code",
   "execution_count": 53,
   "id": "6a03ba5f",
   "metadata": {},
   "outputs": [
    {
     "data": {
      "text/plain": [
       "'Rama Krishna'"
      ]
     },
     "execution_count": 53,
     "metadata": {},
     "output_type": "execute_result"
    }
   ],
   "source": [
    "s3.title()"
   ]
  },
  {
   "cell_type": "code",
   "execution_count": 54,
   "id": "ed9b705b",
   "metadata": {},
   "outputs": [
    {
     "data": {
      "text/plain": [
       "'RAMA KRISHNA'"
      ]
     },
     "execution_count": 54,
     "metadata": {},
     "output_type": "execute_result"
    }
   ],
   "source": [
    "s3.swapcase()"
   ]
  },
  {
   "cell_type": "code",
   "execution_count": 55,
   "id": "aefa286b",
   "metadata": {},
   "outputs": [
    {
     "data": {
      "text/plain": [
       "'anhsirk amar'"
      ]
     },
     "execution_count": 55,
     "metadata": {},
     "output_type": "execute_result"
    }
   ],
   "source": [
    "''.join(reversed(s3))"
   ]
  },
  {
   "cell_type": "code",
   "execution_count": 56,
   "id": "ebff70a7",
   "metadata": {},
   "outputs": [
    {
     "data": {
      "text/plain": [
       "'anhsirk amar'"
      ]
     },
     "execution_count": 56,
     "metadata": {},
     "output_type": "execute_result"
    }
   ],
   "source": [
    "s3[::-1]"
   ]
  },
  {
   "cell_type": "code",
   "execution_count": 57,
   "id": "921937ac",
   "metadata": {},
   "outputs": [],
   "source": [
    "s4=\"   rama   krishna  \""
   ]
  },
  {
   "cell_type": "code",
   "execution_count": 58,
   "id": "980585c4",
   "metadata": {},
   "outputs": [
    {
     "data": {
      "text/plain": [
       "'   rama   krishna  '"
      ]
     },
     "execution_count": 58,
     "metadata": {},
     "output_type": "execute_result"
    }
   ],
   "source": [
    "s4"
   ]
  },
  {
   "cell_type": "code",
   "execution_count": 59,
   "id": "123c2fd5",
   "metadata": {},
   "outputs": [
    {
     "data": {
      "text/plain": [
       "'rama   krishna'"
      ]
     },
     "execution_count": 59,
     "metadata": {},
     "output_type": "execute_result"
    }
   ],
   "source": [
    "s4.strip()"
   ]
  },
  {
   "cell_type": "code",
   "execution_count": 60,
   "id": "548b1433",
   "metadata": {},
   "outputs": [
    {
     "data": {
      "text/plain": [
       "'rama   krishna  '"
      ]
     },
     "execution_count": 60,
     "metadata": {},
     "output_type": "execute_result"
    }
   ],
   "source": [
    "s4.lstrip()"
   ]
  },
  {
   "cell_type": "code",
   "execution_count": 61,
   "id": "d58cd54b",
   "metadata": {},
   "outputs": [
    {
     "data": {
      "text/plain": [
       "'   rama   krishna'"
      ]
     },
     "execution_count": 61,
     "metadata": {},
     "output_type": "execute_result"
    }
   ],
   "source": [
    "s4.rstrip()"
   ]
  },
  {
   "cell_type": "code",
   "execution_count": 62,
   "id": "cc244d37",
   "metadata": {},
   "outputs": [
    {
     "data": {
      "text/plain": [
       "'R  a  m  a  k  r  i  s  h  n  a'"
      ]
     },
     "execution_count": 62,
     "metadata": {},
     "output_type": "execute_result"
    }
   ],
   "source": [
    "'  '.join(\"Ramakrishna\")"
   ]
  },
  {
   "cell_type": "code",
   "execution_count": 63,
   "id": "994864ba",
   "metadata": {},
   "outputs": [
    {
     "data": {
      "text/plain": [
       "'Ramakrishna'"
      ]
     },
     "execution_count": 63,
     "metadata": {},
     "output_type": "execute_result"
    }
   ],
   "source": [
    "''.join(\"Ramakrishna\")"
   ]
  },
  {
   "cell_type": "code",
   "execution_count": 64,
   "id": "5456766f",
   "metadata": {},
   "outputs": [
    {
     "data": {
      "text/plain": [
       "'zzzzz   rama   krishna  zzzzzz'"
      ]
     },
     "execution_count": 64,
     "metadata": {},
     "output_type": "execute_result"
    }
   ],
   "source": [
    "s4.center(30,'z')"
   ]
  },
  {
   "cell_type": "code",
   "execution_count": 65,
   "id": "e3a8720e",
   "metadata": {},
   "outputs": [
    {
     "data": {
      "text/plain": [
       "False"
      ]
     },
     "execution_count": 65,
     "metadata": {},
     "output_type": "execute_result"
    }
   ],
   "source": [
    "s4.isupper()"
   ]
  },
  {
   "cell_type": "code",
   "execution_count": 66,
   "id": "d9700153",
   "metadata": {},
   "outputs": [],
   "source": [
    "s1='RAM'"
   ]
  },
  {
   "cell_type": "code",
   "execution_count": 67,
   "id": "5a6fe955",
   "metadata": {},
   "outputs": [
    {
     "data": {
      "text/plain": [
       "True"
      ]
     },
     "execution_count": 67,
     "metadata": {},
     "output_type": "execute_result"
    }
   ],
   "source": [
    "s1.isupper()"
   ]
  },
  {
   "cell_type": "code",
   "execution_count": 68,
   "id": "ecee915b",
   "metadata": {},
   "outputs": [
    {
     "data": {
      "text/plain": [
       "True"
      ]
     },
     "execution_count": 68,
     "metadata": {},
     "output_type": "execute_result"
    }
   ],
   "source": [
    "s4.islower()"
   ]
  },
  {
   "cell_type": "code",
   "execution_count": 69,
   "id": "3f8c130b",
   "metadata": {},
   "outputs": [],
   "source": [
    "s3='  '"
   ]
  },
  {
   "cell_type": "code",
   "execution_count": 70,
   "id": "3409f8d9",
   "metadata": {},
   "outputs": [
    {
     "data": {
      "text/plain": [
       "True"
      ]
     },
     "execution_count": 70,
     "metadata": {},
     "output_type": "execute_result"
    }
   ],
   "source": [
    "s3.isspace()"
   ]
  },
  {
   "cell_type": "code",
   "execution_count": 71,
   "id": "b0ddf191",
   "metadata": {},
   "outputs": [
    {
     "data": {
      "text/plain": [
       "False"
      ]
     },
     "execution_count": 71,
     "metadata": {},
     "output_type": "execute_result"
    }
   ],
   "source": [
    "s4.isdigit()"
   ]
  },
  {
   "cell_type": "code",
   "execution_count": 72,
   "id": "9d5eafbe",
   "metadata": {},
   "outputs": [],
   "source": [
    "s5='1234'"
   ]
  },
  {
   "cell_type": "code",
   "execution_count": 73,
   "id": "6a7998d8",
   "metadata": {},
   "outputs": [
    {
     "data": {
      "text/plain": [
       "True"
      ]
     },
     "execution_count": 73,
     "metadata": {},
     "output_type": "execute_result"
    }
   ],
   "source": [
    "s5.isdigit()"
   ]
  },
  {
   "cell_type": "code",
   "execution_count": 74,
   "id": "441bb844",
   "metadata": {},
   "outputs": [],
   "source": [
    "s6='1234asdf'"
   ]
  },
  {
   "cell_type": "code",
   "execution_count": 75,
   "id": "bc40e5d6",
   "metadata": {},
   "outputs": [
    {
     "data": {
      "text/plain": [
       "True"
      ]
     },
     "execution_count": 75,
     "metadata": {},
     "output_type": "execute_result"
    }
   ],
   "source": [
    "s6.isalnum()"
   ]
  },
  {
   "cell_type": "code",
   "execution_count": 76,
   "id": "11be5784",
   "metadata": {},
   "outputs": [
    {
     "data": {
      "text/plain": [
       "True"
      ]
     },
     "execution_count": 76,
     "metadata": {},
     "output_type": "execute_result"
    }
   ],
   "source": [
    "s1.isalpha()"
   ]
  },
  {
   "cell_type": "code",
   "execution_count": 77,
   "id": "6312d24f",
   "metadata": {},
   "outputs": [
    {
     "data": {
      "text/plain": [
       "True"
      ]
     },
     "execution_count": 77,
     "metadata": {},
     "output_type": "execute_result"
    }
   ],
   "source": [
    "s1.isalnum()"
   ]
  },
  {
   "cell_type": "code",
   "execution_count": 78,
   "id": "a61f9fed",
   "metadata": {},
   "outputs": [],
   "source": [
    "s='ramakrishna'"
   ]
  },
  {
   "cell_type": "code",
   "execution_count": 79,
   "id": "8bc1940a",
   "metadata": {},
   "outputs": [
    {
     "data": {
      "text/plain": [
       "False"
      ]
     },
     "execution_count": 79,
     "metadata": {},
     "output_type": "execute_result"
    }
   ],
   "source": [
    "s.startswith('s')"
   ]
  },
  {
   "cell_type": "code",
   "execution_count": 80,
   "id": "ab921cab",
   "metadata": {},
   "outputs": [
    {
     "data": {
      "text/plain": [
       "True"
      ]
     },
     "execution_count": 80,
     "metadata": {},
     "output_type": "execute_result"
    }
   ],
   "source": [
    "s.startswith('r')"
   ]
  },
  {
   "cell_type": "code",
   "execution_count": 81,
   "id": "bf215d03",
   "metadata": {},
   "outputs": [
    {
     "data": {
      "text/plain": [
       "False"
      ]
     },
     "execution_count": 81,
     "metadata": {},
     "output_type": "execute_result"
    }
   ],
   "source": [
    "s.endswith('U')"
   ]
  },
  {
   "cell_type": "code",
   "execution_count": 82,
   "id": "1f4a16e1",
   "metadata": {},
   "outputs": [
    {
     "data": {
      "text/plain": [
       "True"
      ]
     },
     "execution_count": 82,
     "metadata": {},
     "output_type": "execute_result"
    }
   ],
   "source": [
    "s.endswith('a')"
   ]
  },
  {
   "cell_type": "code",
   "execution_count": 83,
   "id": "7145c02c",
   "metadata": {},
   "outputs": [
    {
     "data": {
      "text/plain": [
       "False"
      ]
     },
     "execution_count": 83,
     "metadata": {},
     "output_type": "execute_result"
    }
   ],
   "source": [
    "s.isdigit()"
   ]
  },
  {
   "cell_type": "code",
   "execution_count": 84,
   "id": "9fde9992",
   "metadata": {},
   "outputs": [
    {
     "data": {
      "text/plain": [
       "False"
      ]
     },
     "execution_count": 84,
     "metadata": {},
     "output_type": "execute_result"
    }
   ],
   "source": [
    "s.isnumeric()"
   ]
  },
  {
   "cell_type": "code",
   "execution_count": 85,
   "id": "d20a70c0",
   "metadata": {},
   "outputs": [
    {
     "data": {
      "text/plain": [
       "True"
      ]
     },
     "execution_count": 85,
     "metadata": {},
     "output_type": "execute_result"
    }
   ],
   "source": [
    "s.startswith(\"\")"
   ]
  },
  {
   "cell_type": "code",
   "execution_count": 86,
   "id": "242f470e",
   "metadata": {},
   "outputs": [
    {
     "data": {
      "text/plain": [
       "False"
      ]
     },
     "execution_count": 86,
     "metadata": {},
     "output_type": "execute_result"
    }
   ],
   "source": [
    "s.startswith(\" \")"
   ]
  },
  {
   "cell_type": "code",
   "execution_count": 87,
   "id": "f5ca2847",
   "metadata": {},
   "outputs": [
    {
     "data": {
      "text/plain": [
       "True"
      ]
     },
     "execution_count": 87,
     "metadata": {},
     "output_type": "execute_result"
    }
   ],
   "source": [
    "s.isascii()"
   ]
  },
  {
   "cell_type": "code",
   "execution_count": 90,
   "id": "6a944164",
   "metadata": {},
   "outputs": [],
   "source": [
    "s=' abc123 '"
   ]
  },
  {
   "cell_type": "code",
   "execution_count": 91,
   "id": "10d4e670",
   "metadata": {},
   "outputs": [
    {
     "data": {
      "text/plain": [
       "False"
      ]
     },
     "execution_count": 91,
     "metadata": {},
     "output_type": "execute_result"
    }
   ],
   "source": [
    "s.isalnum()"
   ]
  },
  {
   "cell_type": "code",
   "execution_count": null,
   "id": "ec48939d",
   "metadata": {},
   "outputs": [],
   "source": [
    "s= ' s '"
   ]
  },
  {
   "cell_type": "code",
   "execution_count": 92,
   "id": "035614f8",
   "metadata": {},
   "outputs": [
    {
     "data": {
      "text/plain": [
       "False"
      ]
     },
     "execution_count": 92,
     "metadata": {},
     "output_type": "execute_result"
    }
   ],
   "source": [
    "s.isspace()"
   ]
  },
  {
   "cell_type": "code",
   "execution_count": 93,
   "id": "68236f11",
   "metadata": {},
   "outputs": [
    {
     "data": {
      "text/plain": [
       "'###### abc123 ######'"
      ]
     },
     "execution_count": 93,
     "metadata": {},
     "output_type": "execute_result"
    }
   ],
   "source": [
    "s.center(20,'#')"
   ]
  },
  {
   "cell_type": "code",
   "execution_count": 98,
   "id": "09ddcaf5",
   "metadata": {},
   "outputs": [],
   "source": [
    "s='rama\\tkrishan\\tineuron'"
   ]
  },
  {
   "cell_type": "code",
   "execution_count": 100,
   "id": "bcd45479",
   "metadata": {},
   "outputs": [
    {
     "data": {
      "text/plain": [
       "'rama    krishan ineuron'"
      ]
     },
     "execution_count": 100,
     "metadata": {},
     "output_type": "execute_result"
    }
   ],
   "source": [
    "s.expandtabs()"
   ]
  },
  {
   "cell_type": "code",
   "execution_count": 101,
   "id": "fbeeb431",
   "metadata": {},
   "outputs": [
    {
     "ename": "SyntaxError",
     "evalue": "invalid syntax (2755332050.py, line 2)",
     "output_type": "error",
     "traceback": [
      "\u001b[1;36m  Input \u001b[1;32mIn [101]\u001b[1;36m\u001b[0m\n\u001b[1;33m    1.try to extract data from index one to ondex 300 with a jump of 3\u001b[0m\n\u001b[1;37m      ^\u001b[0m\n\u001b[1;31mSyntaxError\u001b[0m\u001b[1;31m:\u001b[0m invalid syntax\n"
     ]
    }
   ],
   "source": [
    "s='this is my first python programming class and i am learNING python string and its function'\n",
    "1.try to extract data from index one to ondex 300 with a jump of 3\n",
    "2.try to split a string without using reverse functon\n",
    "3.try to split a string after converion of the entire string in upper case\n",
    "4."
   ]
  },
  {
   "cell_type": "code",
   "execution_count": null,
   "id": "3e2c7538",
   "metadata": {},
   "outputs": [],
   "source": []
  },
  {
   "cell_type": "code",
   "execution_count": null,
   "id": "8123f19a",
   "metadata": {},
   "outputs": [],
   "source": []
  },
  {
   "cell_type": "code",
   "execution_count": null,
   "id": "2f0536c0",
   "metadata": {},
   "outputs": [],
   "source": []
  },
  {
   "cell_type": "code",
   "execution_count": null,
   "id": "7b84f9ba",
   "metadata": {},
   "outputs": [],
   "source": []
  },
  {
   "cell_type": "code",
   "execution_count": null,
   "id": "5495a704",
   "metadata": {},
   "outputs": [],
   "source": []
  },
  {
   "cell_type": "code",
   "execution_count": null,
   "id": "a807484a",
   "metadata": {},
   "outputs": [],
   "source": []
  },
  {
   "cell_type": "code",
   "execution_count": null,
   "id": "621f1749",
   "metadata": {},
   "outputs": [],
   "source": []
  },
  {
   "cell_type": "code",
   "execution_count": null,
   "id": "89c11c46",
   "metadata": {},
   "outputs": [],
   "source": []
  },
  {
   "cell_type": "code",
   "execution_count": null,
   "id": "5e54ebd0",
   "metadata": {},
   "outputs": [],
   "source": []
  },
  {
   "cell_type": "code",
   "execution_count": null,
   "id": "6127c965",
   "metadata": {},
   "outputs": [],
   "source": []
  },
  {
   "cell_type": "code",
   "execution_count": null,
   "id": "01edc8f5",
   "metadata": {},
   "outputs": [],
   "source": []
  },
  {
   "cell_type": "code",
   "execution_count": null,
   "id": "9851771f",
   "metadata": {},
   "outputs": [],
   "source": []
  },
  {
   "cell_type": "code",
   "execution_count": null,
   "id": "80a7ffd6",
   "metadata": {},
   "outputs": [],
   "source": []
  },
  {
   "cell_type": "code",
   "execution_count": null,
   "id": "edf28ed7",
   "metadata": {},
   "outputs": [],
   "source": []
  },
  {
   "cell_type": "code",
   "execution_count": null,
   "id": "1e4c639d",
   "metadata": {},
   "outputs": [],
   "source": []
  },
  {
   "cell_type": "code",
   "execution_count": null,
   "id": "4632e5be",
   "metadata": {},
   "outputs": [],
   "source": []
  },
  {
   "cell_type": "code",
   "execution_count": null,
   "id": "88357108",
   "metadata": {},
   "outputs": [],
   "source": []
  },
  {
   "cell_type": "code",
   "execution_count": null,
   "id": "c21c935e",
   "metadata": {},
   "outputs": [],
   "source": []
  },
  {
   "cell_type": "code",
   "execution_count": null,
   "id": "6f956291",
   "metadata": {},
   "outputs": [],
   "source": []
  },
  {
   "cell_type": "code",
   "execution_count": null,
   "id": "d0e6f13e",
   "metadata": {},
   "outputs": [],
   "source": []
  },
  {
   "cell_type": "code",
   "execution_count": null,
   "id": "cf902791",
   "metadata": {},
   "outputs": [],
   "source": []
  },
  {
   "cell_type": "code",
   "execution_count": null,
   "id": "0696c66b",
   "metadata": {},
   "outputs": [],
   "source": []
  },
  {
   "cell_type": "code",
   "execution_count": null,
   "id": "98938718",
   "metadata": {},
   "outputs": [],
   "source": []
  },
  {
   "cell_type": "code",
   "execution_count": null,
   "id": "af8cda95",
   "metadata": {},
   "outputs": [],
   "source": []
  },
  {
   "cell_type": "code",
   "execution_count": null,
   "id": "352f80bc",
   "metadata": {},
   "outputs": [],
   "source": []
  },
  {
   "cell_type": "code",
   "execution_count": null,
   "id": "63634f05",
   "metadata": {},
   "outputs": [],
   "source": []
  },
  {
   "cell_type": "code",
   "execution_count": null,
   "id": "7746d2ed",
   "metadata": {},
   "outputs": [],
   "source": []
  },
  {
   "cell_type": "code",
   "execution_count": null,
   "id": "b7901192",
   "metadata": {},
   "outputs": [],
   "source": []
  },
  {
   "cell_type": "code",
   "execution_count": null,
   "id": "b8ea7240",
   "metadata": {},
   "outputs": [],
   "source": []
  },
  {
   "cell_type": "code",
   "execution_count": null,
   "id": "9e3a74a6",
   "metadata": {},
   "outputs": [],
   "source": []
  },
  {
   "cell_type": "code",
   "execution_count": null,
   "id": "7854dfd6",
   "metadata": {},
   "outputs": [],
   "source": []
  },
  {
   "cell_type": "code",
   "execution_count": null,
   "id": "b85c01d0",
   "metadata": {},
   "outputs": [],
   "source": []
  },
  {
   "cell_type": "code",
   "execution_count": null,
   "id": "9b87b866",
   "metadata": {},
   "outputs": [],
   "source": [
    "\n",
    "\n",
    "\n",
    "\n",
    "\n",
    "\n",
    "\n",
    "\n",
    "\n"
   ]
  }
 ],
 "metadata": {
  "kernelspec": {
   "display_name": "Python 3 (ipykernel)",
   "language": "python",
   "name": "python3"
  },
  "language_info": {
   "codemirror_mode": {
    "name": "ipython",
    "version": 3
   },
   "file_extension": ".py",
   "mimetype": "text/x-python",
   "name": "python",
   "nbconvert_exporter": "python",
   "pygments_lexer": "ipython3",
   "version": "3.9.12"
  }
 },
 "nbformat": 4,
 "nbformat_minor": 5
}
